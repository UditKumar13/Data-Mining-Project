{
 "cells": [
  {
   "cell_type": "code",
   "execution_count": 1,
   "id": "7ec82709",
   "metadata": {},
   "outputs": [],
   "source": [
    "import pandas as pd\n",
    "import numpy as np"
   ]
  },
  {
   "cell_type": "code",
   "execution_count": 2,
   "id": "2b2b8858",
   "metadata": {},
   "outputs": [],
   "source": [
    "links_Data=pd.read_csv(\"links.csv\")"
   ]
  },
  {
   "cell_type": "code",
   "execution_count": 3,
   "id": "40cfb5e5",
   "metadata": {},
   "outputs": [
    {
     "data": {
      "text/html": [
       "<div>\n",
       "<style scoped>\n",
       "    .dataframe tbody tr th:only-of-type {\n",
       "        vertical-align: middle;\n",
       "    }\n",
       "\n",
       "    .dataframe tbody tr th {\n",
       "        vertical-align: top;\n",
       "    }\n",
       "\n",
       "    .dataframe thead th {\n",
       "        text-align: right;\n",
       "    }\n",
       "</style>\n",
       "<table border=\"1\" class=\"dataframe\">\n",
       "  <thead>\n",
       "    <tr style=\"text-align: right;\">\n",
       "      <th></th>\n",
       "      <th>movieId</th>\n",
       "      <th>imdbId</th>\n",
       "      <th>tmdbId</th>\n",
       "    </tr>\n",
       "  </thead>\n",
       "  <tbody>\n",
       "    <tr>\n",
       "      <th>0</th>\n",
       "      <td>1</td>\n",
       "      <td>114709</td>\n",
       "      <td>862.0</td>\n",
       "    </tr>\n",
       "    <tr>\n",
       "      <th>1</th>\n",
       "      <td>2</td>\n",
       "      <td>113497</td>\n",
       "      <td>8844.0</td>\n",
       "    </tr>\n",
       "    <tr>\n",
       "      <th>2</th>\n",
       "      <td>3</td>\n",
       "      <td>113228</td>\n",
       "      <td>15602.0</td>\n",
       "    </tr>\n",
       "    <tr>\n",
       "      <th>3</th>\n",
       "      <td>4</td>\n",
       "      <td>114885</td>\n",
       "      <td>31357.0</td>\n",
       "    </tr>\n",
       "    <tr>\n",
       "      <th>4</th>\n",
       "      <td>5</td>\n",
       "      <td>113041</td>\n",
       "      <td>11862.0</td>\n",
       "    </tr>\n",
       "  </tbody>\n",
       "</table>\n",
       "</div>"
      ],
      "text/plain": [
       "   movieId  imdbId   tmdbId\n",
       "0        1  114709    862.0\n",
       "1        2  113497   8844.0\n",
       "2        3  113228  15602.0\n",
       "3        4  114885  31357.0\n",
       "4        5  113041  11862.0"
      ]
     },
     "execution_count": 3,
     "metadata": {},
     "output_type": "execute_result"
    }
   ],
   "source": [
    "links_Data.head()"
   ]
  },
  {
   "cell_type": "markdown",
   "id": "c8850174",
   "metadata": {},
   "source": [
    "## There are 8 null values in tmdbId column\n"
   ]
  },
  {
   "cell_type": "code",
   "execution_count": 4,
   "id": "6752be57",
   "metadata": {},
   "outputs": [
    {
     "data": {
      "text/plain": [
       "movieId    0\n",
       "imdbId     0\n",
       "tmdbId     8\n",
       "dtype: int64"
      ]
     },
     "execution_count": 4,
     "metadata": {},
     "output_type": "execute_result"
    }
   ],
   "source": [
    "links_Data.isnull().sum()\n"
   ]
  },
  {
   "cell_type": "code",
   "execution_count": 5,
   "id": "a9acdd8c",
   "metadata": {},
   "outputs": [
    {
     "name": "stdout",
     "output_type": "stream",
     "text": [
      "links data  shape :  (9742, 3)\n"
     ]
    }
   ],
   "source": [
    "print(\"links data  shape : \",links_Data.shape)"
   ]
  },
  {
   "cell_type": "code",
   "execution_count": 6,
   "id": "9fcc3dbe",
   "metadata": {},
   "outputs": [],
   "source": [
    "movies_Data=pd.read_csv(\"movies.csv\")"
   ]
  },
  {
   "cell_type": "code",
   "execution_count": 7,
   "id": "d683be32",
   "metadata": {},
   "outputs": [
    {
     "name": "stdout",
     "output_type": "stream",
     "text": [
      "movie data shape (9742, 3)\n"
     ]
    },
    {
     "data": {
      "text/html": [
       "<div>\n",
       "<style scoped>\n",
       "    .dataframe tbody tr th:only-of-type {\n",
       "        vertical-align: middle;\n",
       "    }\n",
       "\n",
       "    .dataframe tbody tr th {\n",
       "        vertical-align: top;\n",
       "    }\n",
       "\n",
       "    .dataframe thead th {\n",
       "        text-align: right;\n",
       "    }\n",
       "</style>\n",
       "<table border=\"1\" class=\"dataframe\">\n",
       "  <thead>\n",
       "    <tr style=\"text-align: right;\">\n",
       "      <th></th>\n",
       "      <th>movieId</th>\n",
       "      <th>title</th>\n",
       "      <th>genres</th>\n",
       "    </tr>\n",
       "  </thead>\n",
       "  <tbody>\n",
       "    <tr>\n",
       "      <th>0</th>\n",
       "      <td>1</td>\n",
       "      <td>Toy Story (1995)</td>\n",
       "      <td>Adventure|Animation|Children|Comedy|Fantasy</td>\n",
       "    </tr>\n",
       "    <tr>\n",
       "      <th>1</th>\n",
       "      <td>2</td>\n",
       "      <td>Jumanji (1995)</td>\n",
       "      <td>Adventure|Children|Fantasy</td>\n",
       "    </tr>\n",
       "    <tr>\n",
       "      <th>2</th>\n",
       "      <td>3</td>\n",
       "      <td>Grumpier Old Men (1995)</td>\n",
       "      <td>Comedy|Romance</td>\n",
       "    </tr>\n",
       "    <tr>\n",
       "      <th>3</th>\n",
       "      <td>4</td>\n",
       "      <td>Waiting to Exhale (1995)</td>\n",
       "      <td>Comedy|Drama|Romance</td>\n",
       "    </tr>\n",
       "    <tr>\n",
       "      <th>4</th>\n",
       "      <td>5</td>\n",
       "      <td>Father of the Bride Part II (1995)</td>\n",
       "      <td>Comedy</td>\n",
       "    </tr>\n",
       "    <tr>\n",
       "      <th>5</th>\n",
       "      <td>6</td>\n",
       "      <td>Heat (1995)</td>\n",
       "      <td>Action|Crime|Thriller</td>\n",
       "    </tr>\n",
       "    <tr>\n",
       "      <th>6</th>\n",
       "      <td>7</td>\n",
       "      <td>Sabrina (1995)</td>\n",
       "      <td>Comedy|Romance</td>\n",
       "    </tr>\n",
       "    <tr>\n",
       "      <th>7</th>\n",
       "      <td>8</td>\n",
       "      <td>Tom and Huck (1995)</td>\n",
       "      <td>Adventure|Children</td>\n",
       "    </tr>\n",
       "    <tr>\n",
       "      <th>8</th>\n",
       "      <td>9</td>\n",
       "      <td>Sudden Death (1995)</td>\n",
       "      <td>Action</td>\n",
       "    </tr>\n",
       "    <tr>\n",
       "      <th>9</th>\n",
       "      <td>10</td>\n",
       "      <td>GoldenEye (1995)</td>\n",
       "      <td>Action|Adventure|Thriller</td>\n",
       "    </tr>\n",
       "  </tbody>\n",
       "</table>\n",
       "</div>"
      ],
      "text/plain": [
       "   movieId                               title  \\\n",
       "0        1                    Toy Story (1995)   \n",
       "1        2                      Jumanji (1995)   \n",
       "2        3             Grumpier Old Men (1995)   \n",
       "3        4            Waiting to Exhale (1995)   \n",
       "4        5  Father of the Bride Part II (1995)   \n",
       "5        6                         Heat (1995)   \n",
       "6        7                      Sabrina (1995)   \n",
       "7        8                 Tom and Huck (1995)   \n",
       "8        9                 Sudden Death (1995)   \n",
       "9       10                    GoldenEye (1995)   \n",
       "\n",
       "                                        genres  \n",
       "0  Adventure|Animation|Children|Comedy|Fantasy  \n",
       "1                   Adventure|Children|Fantasy  \n",
       "2                               Comedy|Romance  \n",
       "3                         Comedy|Drama|Romance  \n",
       "4                                       Comedy  \n",
       "5                        Action|Crime|Thriller  \n",
       "6                               Comedy|Romance  \n",
       "7                           Adventure|Children  \n",
       "8                                       Action  \n",
       "9                    Action|Adventure|Thriller  "
      ]
     },
     "execution_count": 7,
     "metadata": {},
     "output_type": "execute_result"
    }
   ],
   "source": [
    "\n",
    "print(\"movie data shape\",movies_Data.shape)\n",
    "movies_Data.head(10)"
   ]
  },
  {
   "cell_type": "markdown",
   "id": "db0ab2e0",
   "metadata": {},
   "source": [
    "## No null values  in movies dataset"
   ]
  },
  {
   "cell_type": "code",
   "execution_count": 8,
   "id": "0a2856d8",
   "metadata": {},
   "outputs": [
    {
     "data": {
      "text/plain": [
       "movieId    0\n",
       "title      0\n",
       "genres     0\n",
       "dtype: int64"
      ]
     },
     "execution_count": 8,
     "metadata": {},
     "output_type": "execute_result"
    }
   ],
   "source": [
    "movies_Data.isnull().sum()"
   ]
  },
  {
   "cell_type": "code",
   "execution_count": 9,
   "id": "2750cb68",
   "metadata": {},
   "outputs": [],
   "source": [
    "# merging movies and links \n",
    "link_and_Movie=pd.merge(links_Data,movies_Data,on='movieId')"
   ]
  },
  {
   "cell_type": "code",
   "execution_count": 10,
   "id": "1389c4fd",
   "metadata": {},
   "outputs": [
    {
     "name": "stdout",
     "output_type": "stream",
     "text": [
      "link and Movie  data shape (9742, 5)\n"
     ]
    },
    {
     "data": {
      "text/html": [
       "<div>\n",
       "<style scoped>\n",
       "    .dataframe tbody tr th:only-of-type {\n",
       "        vertical-align: middle;\n",
       "    }\n",
       "\n",
       "    .dataframe tbody tr th {\n",
       "        vertical-align: top;\n",
       "    }\n",
       "\n",
       "    .dataframe thead th {\n",
       "        text-align: right;\n",
       "    }\n",
       "</style>\n",
       "<table border=\"1\" class=\"dataframe\">\n",
       "  <thead>\n",
       "    <tr style=\"text-align: right;\">\n",
       "      <th></th>\n",
       "      <th>movieId</th>\n",
       "      <th>imdbId</th>\n",
       "      <th>tmdbId</th>\n",
       "      <th>title</th>\n",
       "      <th>genres</th>\n",
       "    </tr>\n",
       "  </thead>\n",
       "  <tbody>\n",
       "    <tr>\n",
       "      <th>0</th>\n",
       "      <td>1</td>\n",
       "      <td>114709</td>\n",
       "      <td>862.0</td>\n",
       "      <td>Toy Story (1995)</td>\n",
       "      <td>Adventure|Animation|Children|Comedy|Fantasy</td>\n",
       "    </tr>\n",
       "    <tr>\n",
       "      <th>1</th>\n",
       "      <td>2</td>\n",
       "      <td>113497</td>\n",
       "      <td>8844.0</td>\n",
       "      <td>Jumanji (1995)</td>\n",
       "      <td>Adventure|Children|Fantasy</td>\n",
       "    </tr>\n",
       "    <tr>\n",
       "      <th>2</th>\n",
       "      <td>3</td>\n",
       "      <td>113228</td>\n",
       "      <td>15602.0</td>\n",
       "      <td>Grumpier Old Men (1995)</td>\n",
       "      <td>Comedy|Romance</td>\n",
       "    </tr>\n",
       "    <tr>\n",
       "      <th>3</th>\n",
       "      <td>4</td>\n",
       "      <td>114885</td>\n",
       "      <td>31357.0</td>\n",
       "      <td>Waiting to Exhale (1995)</td>\n",
       "      <td>Comedy|Drama|Romance</td>\n",
       "    </tr>\n",
       "    <tr>\n",
       "      <th>4</th>\n",
       "      <td>5</td>\n",
       "      <td>113041</td>\n",
       "      <td>11862.0</td>\n",
       "      <td>Father of the Bride Part II (1995)</td>\n",
       "      <td>Comedy</td>\n",
       "    </tr>\n",
       "  </tbody>\n",
       "</table>\n",
       "</div>"
      ],
      "text/plain": [
       "   movieId  imdbId   tmdbId                               title  \\\n",
       "0        1  114709    862.0                    Toy Story (1995)   \n",
       "1        2  113497   8844.0                      Jumanji (1995)   \n",
       "2        3  113228  15602.0             Grumpier Old Men (1995)   \n",
       "3        4  114885  31357.0            Waiting to Exhale (1995)   \n",
       "4        5  113041  11862.0  Father of the Bride Part II (1995)   \n",
       "\n",
       "                                        genres  \n",
       "0  Adventure|Animation|Children|Comedy|Fantasy  \n",
       "1                   Adventure|Children|Fantasy  \n",
       "2                               Comedy|Romance  \n",
       "3                         Comedy|Drama|Romance  \n",
       "4                                       Comedy  "
      ]
     },
     "execution_count": 10,
     "metadata": {},
     "output_type": "execute_result"
    }
   ],
   "source": [
    "\n",
    "print(\"link and Movie  data shape\",link_and_Movie.shape)\n",
    "link_and_Movie.head()"
   ]
  },
  {
   "cell_type": "markdown",
   "id": "8e5997b3",
   "metadata": {},
   "source": [
    "## Link and movie combined have only 8 null values in the tmdbId column"
   ]
  },
  {
   "cell_type": "code",
   "execution_count": 11,
   "id": "2e2a39d2",
   "metadata": {},
   "outputs": [
    {
     "data": {
      "text/plain": [
       "movieId    0\n",
       "imdbId     0\n",
       "tmdbId     8\n",
       "title      0\n",
       "genres     0\n",
       "dtype: int64"
      ]
     },
     "execution_count": 11,
     "metadata": {},
     "output_type": "execute_result"
    }
   ],
   "source": [
    "link_and_Movie.isnull().sum()"
   ]
  },
  {
   "cell_type": "code",
   "execution_count": 12,
   "id": "e0d039bf",
   "metadata": {},
   "outputs": [],
   "source": [
    "rating_Data = pd.read_csv(\"ratings.csv\")"
   ]
  },
  {
   "cell_type": "code",
   "execution_count": 13,
   "id": "0f84aff0",
   "metadata": {},
   "outputs": [
    {
     "name": "stdout",
     "output_type": "stream",
     "text": [
      "rating data shape (100836, 4)\n"
     ]
    },
    {
     "data": {
      "text/html": [
       "<div>\n",
       "<style scoped>\n",
       "    .dataframe tbody tr th:only-of-type {\n",
       "        vertical-align: middle;\n",
       "    }\n",
       "\n",
       "    .dataframe tbody tr th {\n",
       "        vertical-align: top;\n",
       "    }\n",
       "\n",
       "    .dataframe thead th {\n",
       "        text-align: right;\n",
       "    }\n",
       "</style>\n",
       "<table border=\"1\" class=\"dataframe\">\n",
       "  <thead>\n",
       "    <tr style=\"text-align: right;\">\n",
       "      <th></th>\n",
       "      <th>userId</th>\n",
       "      <th>movieId</th>\n",
       "      <th>rating</th>\n",
       "      <th>timestamp</th>\n",
       "    </tr>\n",
       "  </thead>\n",
       "  <tbody>\n",
       "    <tr>\n",
       "      <th>0</th>\n",
       "      <td>1</td>\n",
       "      <td>1</td>\n",
       "      <td>4.0</td>\n",
       "      <td>964982703</td>\n",
       "    </tr>\n",
       "    <tr>\n",
       "      <th>1</th>\n",
       "      <td>1</td>\n",
       "      <td>3</td>\n",
       "      <td>4.0</td>\n",
       "      <td>964981247</td>\n",
       "    </tr>\n",
       "    <tr>\n",
       "      <th>2</th>\n",
       "      <td>1</td>\n",
       "      <td>6</td>\n",
       "      <td>4.0</td>\n",
       "      <td>964982224</td>\n",
       "    </tr>\n",
       "    <tr>\n",
       "      <th>3</th>\n",
       "      <td>1</td>\n",
       "      <td>47</td>\n",
       "      <td>5.0</td>\n",
       "      <td>964983815</td>\n",
       "    </tr>\n",
       "    <tr>\n",
       "      <th>4</th>\n",
       "      <td>1</td>\n",
       "      <td>50</td>\n",
       "      <td>5.0</td>\n",
       "      <td>964982931</td>\n",
       "    </tr>\n",
       "  </tbody>\n",
       "</table>\n",
       "</div>"
      ],
      "text/plain": [
       "   userId  movieId  rating  timestamp\n",
       "0       1        1     4.0  964982703\n",
       "1       1        3     4.0  964981247\n",
       "2       1        6     4.0  964982224\n",
       "3       1       47     5.0  964983815\n",
       "4       1       50     5.0  964982931"
      ]
     },
     "execution_count": 13,
     "metadata": {},
     "output_type": "execute_result"
    }
   ],
   "source": [
    "print(\"rating data shape\",rating_Data.shape)\n",
    "rating_Data.head()"
   ]
  },
  {
   "cell_type": "markdown",
   "id": "c47350ca",
   "metadata": {},
   "source": [
    "## Rating data don't have any null values in any columns"
   ]
  },
  {
   "cell_type": "code",
   "execution_count": 14,
   "id": "3b0ab487",
   "metadata": {},
   "outputs": [
    {
     "data": {
      "text/plain": [
       "userId       0\n",
       "movieId      0\n",
       "rating       0\n",
       "timestamp    0\n",
       "dtype: int64"
      ]
     },
     "execution_count": 14,
     "metadata": {},
     "output_type": "execute_result"
    }
   ],
   "source": [
    "rating_Data.isnull().sum()"
   ]
  },
  {
   "cell_type": "code",
   "execution_count": 15,
   "id": "ae918e8b",
   "metadata": {},
   "outputs": [],
   "source": [
    "tags_Data=pd.read_csv(\"tags.csv\")"
   ]
  },
  {
   "cell_type": "code",
   "execution_count": 16,
   "id": "3675be9d",
   "metadata": {},
   "outputs": [
    {
     "name": "stdout",
     "output_type": "stream",
     "text": [
      "Tags data shape (3683, 4)\n"
     ]
    },
    {
     "data": {
      "text/html": [
       "<div>\n",
       "<style scoped>\n",
       "    .dataframe tbody tr th:only-of-type {\n",
       "        vertical-align: middle;\n",
       "    }\n",
       "\n",
       "    .dataframe tbody tr th {\n",
       "        vertical-align: top;\n",
       "    }\n",
       "\n",
       "    .dataframe thead th {\n",
       "        text-align: right;\n",
       "    }\n",
       "</style>\n",
       "<table border=\"1\" class=\"dataframe\">\n",
       "  <thead>\n",
       "    <tr style=\"text-align: right;\">\n",
       "      <th></th>\n",
       "      <th>userId</th>\n",
       "      <th>movieId</th>\n",
       "      <th>tag</th>\n",
       "      <th>timestamp</th>\n",
       "    </tr>\n",
       "  </thead>\n",
       "  <tbody>\n",
       "    <tr>\n",
       "      <th>0</th>\n",
       "      <td>2</td>\n",
       "      <td>60756</td>\n",
       "      <td>funny</td>\n",
       "      <td>1445714994</td>\n",
       "    </tr>\n",
       "    <tr>\n",
       "      <th>1</th>\n",
       "      <td>2</td>\n",
       "      <td>60756</td>\n",
       "      <td>Highly quotable</td>\n",
       "      <td>1445714996</td>\n",
       "    </tr>\n",
       "    <tr>\n",
       "      <th>2</th>\n",
       "      <td>2</td>\n",
       "      <td>60756</td>\n",
       "      <td>will ferrell</td>\n",
       "      <td>1445714992</td>\n",
       "    </tr>\n",
       "    <tr>\n",
       "      <th>3</th>\n",
       "      <td>2</td>\n",
       "      <td>89774</td>\n",
       "      <td>Boxing story</td>\n",
       "      <td>1445715207</td>\n",
       "    </tr>\n",
       "    <tr>\n",
       "      <th>4</th>\n",
       "      <td>2</td>\n",
       "      <td>89774</td>\n",
       "      <td>MMA</td>\n",
       "      <td>1445715200</td>\n",
       "    </tr>\n",
       "  </tbody>\n",
       "</table>\n",
       "</div>"
      ],
      "text/plain": [
       "   userId  movieId              tag   timestamp\n",
       "0       2    60756            funny  1445714994\n",
       "1       2    60756  Highly quotable  1445714996\n",
       "2       2    60756     will ferrell  1445714992\n",
       "3       2    89774     Boxing story  1445715207\n",
       "4       2    89774              MMA  1445715200"
      ]
     },
     "execution_count": 16,
     "metadata": {},
     "output_type": "execute_result"
    }
   ],
   "source": [
    "print(\"Tags data shape\",tags_Data.shape)\n",
    "tags_Data.head()"
   ]
  },
  {
   "cell_type": "markdown",
   "id": "d533393b",
   "metadata": {},
   "source": [
    "## Tags data does not have any null values in any column"
   ]
  },
  {
   "cell_type": "code",
   "execution_count": 17,
   "id": "6ef302b0",
   "metadata": {},
   "outputs": [
    {
     "data": {
      "text/plain": [
       "userId       0\n",
       "movieId      0\n",
       "tag          0\n",
       "timestamp    0\n",
       "dtype: int64"
      ]
     },
     "execution_count": 17,
     "metadata": {},
     "output_type": "execute_result"
    }
   ],
   "source": [
    "tags_Data.isnull().sum()"
   ]
  },
  {
   "cell_type": "code",
   "execution_count": 18,
   "id": "cb9b9359",
   "metadata": {},
   "outputs": [],
   "source": [
    "# merging movies and links \n",
    "rating_and_tag1=pd.merge(rating_Data,tags_Data)\n",
    "rating_and_tag2=pd.merge(rating_Data,tags_Data, on=[\"userId\"])\n",
    "rating_and_tag3=pd.merge(rating_Data,tags_Data, how=\"left\",on=[\"userId\",\"movieId\",\"timestamp\"])\n",
    "rating_and_tag4=pd.merge(rating_Data,tags_Data, how=\"right\",on=[\"userId\",\"movieId\",\"timestamp\"])\n",
    "rating_and_tag5=pd.merge(rating_Data,tags_Data, how=\"outer\",on=[\"userId\",\"movieId\",\"timestamp\"])\n",
    "\n"
   ]
  },
  {
   "cell_type": "code",
   "execution_count": 19,
   "id": "60e531ea",
   "metadata": {},
   "outputs": [
    {
     "name": "stdout",
     "output_type": "stream",
     "text": [
      "default join (0, 5)\n",
      "inner with only user id (4626866, 7)\n",
      "left join  (100836, 5)\n",
      "right join (3683, 5)\n",
      "outer join (104519, 5)\n"
     ]
    }
   ],
   "source": [
    "print(\"default join\",rating_and_tag1.shape)\n",
    "print(\"inner with only user id\",rating_and_tag2.shape)\n",
    "print(\"left join \",rating_and_tag3.shape)\n",
    "print(\"right join\",rating_and_tag4.shape)\n",
    "print(\"outer join\",rating_and_tag5.shape)"
   ]
  },
  {
   "cell_type": "code",
   "execution_count": 20,
   "id": "ddb9b90f",
   "metadata": {},
   "outputs": [
    {
     "name": "stdout",
     "output_type": "stream",
     "text": [
      "********outer join ******\n",
      "userId            0\n",
      "movieId           0\n",
      "rating         3683\n",
      "timestamp         0\n",
      "tag          100836\n",
      "dtype: int64\n"
     ]
    }
   ],
   "source": [
    "print(\"********outer join ******\")\n",
    "print(rating_and_tag5.isnull().sum())"
   ]
  },
  {
   "cell_type": "code",
   "execution_count": 21,
   "id": "e511f540",
   "metadata": {
    "scrolled": true
   },
   "outputs": [
    {
     "name": "stdout",
     "output_type": "stream",
     "text": [
      "********right join ******\n",
      "userId          0\n",
      "movieId         0\n",
      "rating       3683\n",
      "timestamp       0\n",
      "tag             0\n",
      "dtype: int64\n"
     ]
    }
   ],
   "source": [
    "print(\"********right join ******\")\n",
    "print(rating_and_tag4.isnull().sum())"
   ]
  },
  {
   "cell_type": "code",
   "execution_count": 22,
   "id": "f59ff01d",
   "metadata": {},
   "outputs": [],
   "source": [
    "#going with the outer \n",
    "rating_and_tag = pd.merge(rating_Data,tags_Data, how=\"outer\",on=[\"userId\",\"movieId\",\"timestamp\"])"
   ]
  },
  {
   "cell_type": "code",
   "execution_count": 23,
   "id": "908ccd8f",
   "metadata": {},
   "outputs": [
    {
     "name": "stdout",
     "output_type": "stream",
     "text": [
      "link and movie : (9742, 5)\n",
      "rating and tag : (104519, 5)\n",
      "link and movie unique attribute :  [     1      2      3 ... 193585 193587 193609]\n",
      "rating and tag unique attribute :  [    1     3     6 ... 32371 34482 85565]\n",
      "link and Movie info\n"
     ]
    }
   ],
   "source": [
    "print(\"link and movie :\",link_and_Movie.shape)\n",
    "print(\"rating and tag :\",rating_and_tag.shape)\n",
    "print(\"link and movie unique attribute : \",link_and_Movie.movieId.unique())\n",
    "print(\"rating and tag unique attribute : \",rating_and_tag.movieId.unique())\n",
    "print(\"link and Movie info\",)"
   ]
  },
  {
   "cell_type": "code",
   "execution_count": 24,
   "id": "27952003",
   "metadata": {},
   "outputs": [
    {
     "data": {
      "text/html": [
       "<div>\n",
       "<style scoped>\n",
       "    .dataframe tbody tr th:only-of-type {\n",
       "        vertical-align: middle;\n",
       "    }\n",
       "\n",
       "    .dataframe tbody tr th {\n",
       "        vertical-align: top;\n",
       "    }\n",
       "\n",
       "    .dataframe thead th {\n",
       "        text-align: right;\n",
       "    }\n",
       "</style>\n",
       "<table border=\"1\" class=\"dataframe\">\n",
       "  <thead>\n",
       "    <tr style=\"text-align: right;\">\n",
       "      <th></th>\n",
       "      <th>movieId</th>\n",
       "      <th>imdbId</th>\n",
       "      <th>tmdbId</th>\n",
       "      <th>title</th>\n",
       "      <th>genres</th>\n",
       "    </tr>\n",
       "  </thead>\n",
       "  <tbody>\n",
       "    <tr>\n",
       "      <th>0</th>\n",
       "      <td>1</td>\n",
       "      <td>114709</td>\n",
       "      <td>862.0</td>\n",
       "      <td>Toy Story (1995)</td>\n",
       "      <td>Adventure|Animation|Children|Comedy|Fantasy</td>\n",
       "    </tr>\n",
       "    <tr>\n",
       "      <th>1</th>\n",
       "      <td>2</td>\n",
       "      <td>113497</td>\n",
       "      <td>8844.0</td>\n",
       "      <td>Jumanji (1995)</td>\n",
       "      <td>Adventure|Children|Fantasy</td>\n",
       "    </tr>\n",
       "    <tr>\n",
       "      <th>2</th>\n",
       "      <td>3</td>\n",
       "      <td>113228</td>\n",
       "      <td>15602.0</td>\n",
       "      <td>Grumpier Old Men (1995)</td>\n",
       "      <td>Comedy|Romance</td>\n",
       "    </tr>\n",
       "    <tr>\n",
       "      <th>3</th>\n",
       "      <td>4</td>\n",
       "      <td>114885</td>\n",
       "      <td>31357.0</td>\n",
       "      <td>Waiting to Exhale (1995)</td>\n",
       "      <td>Comedy|Drama|Romance</td>\n",
       "    </tr>\n",
       "    <tr>\n",
       "      <th>4</th>\n",
       "      <td>5</td>\n",
       "      <td>113041</td>\n",
       "      <td>11862.0</td>\n",
       "      <td>Father of the Bride Part II (1995)</td>\n",
       "      <td>Comedy</td>\n",
       "    </tr>\n",
       "    <tr>\n",
       "      <th>5</th>\n",
       "      <td>6</td>\n",
       "      <td>113277</td>\n",
       "      <td>949.0</td>\n",
       "      <td>Heat (1995)</td>\n",
       "      <td>Action|Crime|Thriller</td>\n",
       "    </tr>\n",
       "    <tr>\n",
       "      <th>6</th>\n",
       "      <td>7</td>\n",
       "      <td>114319</td>\n",
       "      <td>11860.0</td>\n",
       "      <td>Sabrina (1995)</td>\n",
       "      <td>Comedy|Romance</td>\n",
       "    </tr>\n",
       "    <tr>\n",
       "      <th>7</th>\n",
       "      <td>8</td>\n",
       "      <td>112302</td>\n",
       "      <td>45325.0</td>\n",
       "      <td>Tom and Huck (1995)</td>\n",
       "      <td>Adventure|Children</td>\n",
       "    </tr>\n",
       "    <tr>\n",
       "      <th>8</th>\n",
       "      <td>9</td>\n",
       "      <td>114576</td>\n",
       "      <td>9091.0</td>\n",
       "      <td>Sudden Death (1995)</td>\n",
       "      <td>Action</td>\n",
       "    </tr>\n",
       "    <tr>\n",
       "      <th>9</th>\n",
       "      <td>10</td>\n",
       "      <td>113189</td>\n",
       "      <td>710.0</td>\n",
       "      <td>GoldenEye (1995)</td>\n",
       "      <td>Action|Adventure|Thriller</td>\n",
       "    </tr>\n",
       "  </tbody>\n",
       "</table>\n",
       "</div>"
      ],
      "text/plain": [
       "   movieId  imdbId   tmdbId                               title  \\\n",
       "0        1  114709    862.0                    Toy Story (1995)   \n",
       "1        2  113497   8844.0                      Jumanji (1995)   \n",
       "2        3  113228  15602.0             Grumpier Old Men (1995)   \n",
       "3        4  114885  31357.0            Waiting to Exhale (1995)   \n",
       "4        5  113041  11862.0  Father of the Bride Part II (1995)   \n",
       "5        6  113277    949.0                         Heat (1995)   \n",
       "6        7  114319  11860.0                      Sabrina (1995)   \n",
       "7        8  112302  45325.0                 Tom and Huck (1995)   \n",
       "8        9  114576   9091.0                 Sudden Death (1995)   \n",
       "9       10  113189    710.0                    GoldenEye (1995)   \n",
       "\n",
       "                                        genres  \n",
       "0  Adventure|Animation|Children|Comedy|Fantasy  \n",
       "1                   Adventure|Children|Fantasy  \n",
       "2                               Comedy|Romance  \n",
       "3                         Comedy|Drama|Romance  \n",
       "4                                       Comedy  \n",
       "5                        Action|Crime|Thriller  \n",
       "6                               Comedy|Romance  \n",
       "7                           Adventure|Children  \n",
       "8                                       Action  \n",
       "9                    Action|Adventure|Thriller  "
      ]
     },
     "execution_count": 24,
     "metadata": {},
     "output_type": "execute_result"
    }
   ],
   "source": [
    "link_and_Movie.head(10)"
   ]
  },
  {
   "cell_type": "code",
   "execution_count": 25,
   "id": "995d6b56",
   "metadata": {},
   "outputs": [
    {
     "name": "stdout",
     "output_type": "stream",
     "text": [
      "0          True\n",
      "1         False\n",
      "2         False\n",
      "3         False\n",
      "4         False\n",
      "          ...  \n",
      "104514    False\n",
      "104515    False\n",
      "104516    False\n",
      "104517    False\n",
      "104518    False\n",
      "Name: movieId, Length: 104519, dtype: bool\n"
     ]
    },
    {
     "data": {
      "text/html": [
       "<div>\n",
       "<style scoped>\n",
       "    .dataframe tbody tr th:only-of-type {\n",
       "        vertical-align: middle;\n",
       "    }\n",
       "\n",
       "    .dataframe tbody tr th {\n",
       "        vertical-align: top;\n",
       "    }\n",
       "\n",
       "    .dataframe thead th {\n",
       "        text-align: right;\n",
       "    }\n",
       "</style>\n",
       "<table border=\"1\" class=\"dataframe\">\n",
       "  <thead>\n",
       "    <tr style=\"text-align: right;\">\n",
       "      <th></th>\n",
       "      <th>userId</th>\n",
       "      <th>movieId</th>\n",
       "      <th>rating</th>\n",
       "      <th>timestamp</th>\n",
       "      <th>tag</th>\n",
       "    </tr>\n",
       "  </thead>\n",
       "  <tbody>\n",
       "    <tr>\n",
       "      <th>0</th>\n",
       "      <td>1</td>\n",
       "      <td>1</td>\n",
       "      <td>4.0</td>\n",
       "      <td>964982703</td>\n",
       "      <td>NaN</td>\n",
       "    </tr>\n",
       "    <tr>\n",
       "      <th>1</th>\n",
       "      <td>1</td>\n",
       "      <td>3</td>\n",
       "      <td>4.0</td>\n",
       "      <td>964981247</td>\n",
       "      <td>NaN</td>\n",
       "    </tr>\n",
       "    <tr>\n",
       "      <th>2</th>\n",
       "      <td>1</td>\n",
       "      <td>6</td>\n",
       "      <td>4.0</td>\n",
       "      <td>964982224</td>\n",
       "      <td>NaN</td>\n",
       "    </tr>\n",
       "    <tr>\n",
       "      <th>3</th>\n",
       "      <td>1</td>\n",
       "      <td>47</td>\n",
       "      <td>5.0</td>\n",
       "      <td>964983815</td>\n",
       "      <td>NaN</td>\n",
       "    </tr>\n",
       "    <tr>\n",
       "      <th>4</th>\n",
       "      <td>1</td>\n",
       "      <td>50</td>\n",
       "      <td>5.0</td>\n",
       "      <td>964982931</td>\n",
       "      <td>NaN</td>\n",
       "    </tr>\n",
       "    <tr>\n",
       "      <th>5</th>\n",
       "      <td>1</td>\n",
       "      <td>70</td>\n",
       "      <td>3.0</td>\n",
       "      <td>964982400</td>\n",
       "      <td>NaN</td>\n",
       "    </tr>\n",
       "    <tr>\n",
       "      <th>6</th>\n",
       "      <td>1</td>\n",
       "      <td>101</td>\n",
       "      <td>5.0</td>\n",
       "      <td>964980868</td>\n",
       "      <td>NaN</td>\n",
       "    </tr>\n",
       "    <tr>\n",
       "      <th>7</th>\n",
       "      <td>1</td>\n",
       "      <td>110</td>\n",
       "      <td>4.0</td>\n",
       "      <td>964982176</td>\n",
       "      <td>NaN</td>\n",
       "    </tr>\n",
       "    <tr>\n",
       "      <th>8</th>\n",
       "      <td>1</td>\n",
       "      <td>151</td>\n",
       "      <td>5.0</td>\n",
       "      <td>964984041</td>\n",
       "      <td>NaN</td>\n",
       "    </tr>\n",
       "    <tr>\n",
       "      <th>9</th>\n",
       "      <td>1</td>\n",
       "      <td>157</td>\n",
       "      <td>5.0</td>\n",
       "      <td>964984100</td>\n",
       "      <td>NaN</td>\n",
       "    </tr>\n",
       "  </tbody>\n",
       "</table>\n",
       "</div>"
      ],
      "text/plain": [
       "   userId  movieId  rating  timestamp  tag\n",
       "0       1        1     4.0  964982703  NaN\n",
       "1       1        3     4.0  964981247  NaN\n",
       "2       1        6     4.0  964982224  NaN\n",
       "3       1       47     5.0  964983815  NaN\n",
       "4       1       50     5.0  964982931  NaN\n",
       "5       1       70     3.0  964982400  NaN\n",
       "6       1      101     5.0  964980868  NaN\n",
       "7       1      110     4.0  964982176  NaN\n",
       "8       1      151     5.0  964984041  NaN\n",
       "9       1      157     5.0  964984100  NaN"
      ]
     },
     "execution_count": 25,
     "metadata": {},
     "output_type": "execute_result"
    }
   ],
   "source": [
    "print(rating_and_tag['movieId'] == 1)\n",
    "rating_and_tag.head(10)\n"
   ]
  },
  {
   "cell_type": "code",
   "execution_count": 26,
   "id": "cc764533",
   "metadata": {},
   "outputs": [],
   "source": [
    "# merging both link,movie and rating,tag\n",
    "final_Merge=pd.merge(link_and_Movie,rating_and_tag,on='movieId')\n"
   ]
  },
  {
   "cell_type": "code",
   "execution_count": 27,
   "id": "848ab99c",
   "metadata": {},
   "outputs": [
    {
     "name": "stdout",
     "output_type": "stream",
     "text": [
      "final merge : (104519, 9)\n"
     ]
    }
   ],
   "source": [
    "print(\"final merge :\",final_Merge.shape)\n"
   ]
  },
  {
   "cell_type": "code",
   "execution_count": 28,
   "id": "a547a3af",
   "metadata": {},
   "outputs": [
    {
     "name": "stdout",
     "output_type": "stream",
     "text": [
      "********final merge ******\n",
      "movieId           0\n",
      "imdbId            0\n",
      "tmdbId           13\n",
      "title             0\n",
      "genres            0\n",
      "userId            0\n",
      "rating         3683\n",
      "timestamp         0\n",
      "tag          100836\n",
      "dtype: int64\n"
     ]
    }
   ],
   "source": [
    "print(\"********final merge ******\")\n",
    "print(final_Merge.isnull().sum())"
   ]
  },
  {
   "cell_type": "code",
   "execution_count": 29,
   "id": "5775b1d6",
   "metadata": {},
   "outputs": [
    {
     "name": "stdout",
     "output_type": "stream",
     "text": [
      "final_Merge\n"
     ]
    },
    {
     "data": {
      "text/html": [
       "<div>\n",
       "<style scoped>\n",
       "    .dataframe tbody tr th:only-of-type {\n",
       "        vertical-align: middle;\n",
       "    }\n",
       "\n",
       "    .dataframe tbody tr th {\n",
       "        vertical-align: top;\n",
       "    }\n",
       "\n",
       "    .dataframe thead th {\n",
       "        text-align: right;\n",
       "    }\n",
       "</style>\n",
       "<table border=\"1\" class=\"dataframe\">\n",
       "  <thead>\n",
       "    <tr style=\"text-align: right;\">\n",
       "      <th></th>\n",
       "      <th>movieId</th>\n",
       "      <th>imdbId</th>\n",
       "      <th>tmdbId</th>\n",
       "      <th>title</th>\n",
       "      <th>genres</th>\n",
       "      <th>userId</th>\n",
       "      <th>rating</th>\n",
       "      <th>timestamp</th>\n",
       "      <th>tag</th>\n",
       "    </tr>\n",
       "  </thead>\n",
       "  <tbody>\n",
       "    <tr>\n",
       "      <th>0</th>\n",
       "      <td>1</td>\n",
       "      <td>114709</td>\n",
       "      <td>862.0</td>\n",
       "      <td>Toy Story (1995)</td>\n",
       "      <td>Adventure|Animation|Children|Comedy|Fantasy</td>\n",
       "      <td>1</td>\n",
       "      <td>4.0</td>\n",
       "      <td>964982703</td>\n",
       "      <td>NaN</td>\n",
       "    </tr>\n",
       "    <tr>\n",
       "      <th>1</th>\n",
       "      <td>1</td>\n",
       "      <td>114709</td>\n",
       "      <td>862.0</td>\n",
       "      <td>Toy Story (1995)</td>\n",
       "      <td>Adventure|Animation|Children|Comedy|Fantasy</td>\n",
       "      <td>5</td>\n",
       "      <td>4.0</td>\n",
       "      <td>847434962</td>\n",
       "      <td>NaN</td>\n",
       "    </tr>\n",
       "    <tr>\n",
       "      <th>2</th>\n",
       "      <td>1</td>\n",
       "      <td>114709</td>\n",
       "      <td>862.0</td>\n",
       "      <td>Toy Story (1995)</td>\n",
       "      <td>Adventure|Animation|Children|Comedy|Fantasy</td>\n",
       "      <td>7</td>\n",
       "      <td>4.5</td>\n",
       "      <td>1106635946</td>\n",
       "      <td>NaN</td>\n",
       "    </tr>\n",
       "    <tr>\n",
       "      <th>3</th>\n",
       "      <td>1</td>\n",
       "      <td>114709</td>\n",
       "      <td>862.0</td>\n",
       "      <td>Toy Story (1995)</td>\n",
       "      <td>Adventure|Animation|Children|Comedy|Fantasy</td>\n",
       "      <td>15</td>\n",
       "      <td>2.5</td>\n",
       "      <td>1510577970</td>\n",
       "      <td>NaN</td>\n",
       "    </tr>\n",
       "    <tr>\n",
       "      <th>4</th>\n",
       "      <td>1</td>\n",
       "      <td>114709</td>\n",
       "      <td>862.0</td>\n",
       "      <td>Toy Story (1995)</td>\n",
       "      <td>Adventure|Animation|Children|Comedy|Fantasy</td>\n",
       "      <td>17</td>\n",
       "      <td>4.5</td>\n",
       "      <td>1305696483</td>\n",
       "      <td>NaN</td>\n",
       "    </tr>\n",
       "    <tr>\n",
       "      <th>5</th>\n",
       "      <td>1</td>\n",
       "      <td>114709</td>\n",
       "      <td>862.0</td>\n",
       "      <td>Toy Story (1995)</td>\n",
       "      <td>Adventure|Animation|Children|Comedy|Fantasy</td>\n",
       "      <td>18</td>\n",
       "      <td>3.5</td>\n",
       "      <td>1455209816</td>\n",
       "      <td>NaN</td>\n",
       "    </tr>\n",
       "    <tr>\n",
       "      <th>6</th>\n",
       "      <td>1</td>\n",
       "      <td>114709</td>\n",
       "      <td>862.0</td>\n",
       "      <td>Toy Story (1995)</td>\n",
       "      <td>Adventure|Animation|Children|Comedy|Fantasy</td>\n",
       "      <td>19</td>\n",
       "      <td>4.0</td>\n",
       "      <td>965705637</td>\n",
       "      <td>NaN</td>\n",
       "    </tr>\n",
       "    <tr>\n",
       "      <th>7</th>\n",
       "      <td>1</td>\n",
       "      <td>114709</td>\n",
       "      <td>862.0</td>\n",
       "      <td>Toy Story (1995)</td>\n",
       "      <td>Adventure|Animation|Children|Comedy|Fantasy</td>\n",
       "      <td>21</td>\n",
       "      <td>3.5</td>\n",
       "      <td>1407618878</td>\n",
       "      <td>NaN</td>\n",
       "    </tr>\n",
       "    <tr>\n",
       "      <th>8</th>\n",
       "      <td>1</td>\n",
       "      <td>114709</td>\n",
       "      <td>862.0</td>\n",
       "      <td>Toy Story (1995)</td>\n",
       "      <td>Adventure|Animation|Children|Comedy|Fantasy</td>\n",
       "      <td>27</td>\n",
       "      <td>3.0</td>\n",
       "      <td>962685262</td>\n",
       "      <td>NaN</td>\n",
       "    </tr>\n",
       "    <tr>\n",
       "      <th>9</th>\n",
       "      <td>1</td>\n",
       "      <td>114709</td>\n",
       "      <td>862.0</td>\n",
       "      <td>Toy Story (1995)</td>\n",
       "      <td>Adventure|Animation|Children|Comedy|Fantasy</td>\n",
       "      <td>31</td>\n",
       "      <td>5.0</td>\n",
       "      <td>850466616</td>\n",
       "      <td>NaN</td>\n",
       "    </tr>\n",
       "  </tbody>\n",
       "</table>\n",
       "</div>"
      ],
      "text/plain": [
       "   movieId  imdbId  tmdbId             title  \\\n",
       "0        1  114709   862.0  Toy Story (1995)   \n",
       "1        1  114709   862.0  Toy Story (1995)   \n",
       "2        1  114709   862.0  Toy Story (1995)   \n",
       "3        1  114709   862.0  Toy Story (1995)   \n",
       "4        1  114709   862.0  Toy Story (1995)   \n",
       "5        1  114709   862.0  Toy Story (1995)   \n",
       "6        1  114709   862.0  Toy Story (1995)   \n",
       "7        1  114709   862.0  Toy Story (1995)   \n",
       "8        1  114709   862.0  Toy Story (1995)   \n",
       "9        1  114709   862.0  Toy Story (1995)   \n",
       "\n",
       "                                        genres  userId  rating   timestamp  \\\n",
       "0  Adventure|Animation|Children|Comedy|Fantasy       1     4.0   964982703   \n",
       "1  Adventure|Animation|Children|Comedy|Fantasy       5     4.0   847434962   \n",
       "2  Adventure|Animation|Children|Comedy|Fantasy       7     4.5  1106635946   \n",
       "3  Adventure|Animation|Children|Comedy|Fantasy      15     2.5  1510577970   \n",
       "4  Adventure|Animation|Children|Comedy|Fantasy      17     4.5  1305696483   \n",
       "5  Adventure|Animation|Children|Comedy|Fantasy      18     3.5  1455209816   \n",
       "6  Adventure|Animation|Children|Comedy|Fantasy      19     4.0   965705637   \n",
       "7  Adventure|Animation|Children|Comedy|Fantasy      21     3.5  1407618878   \n",
       "8  Adventure|Animation|Children|Comedy|Fantasy      27     3.0   962685262   \n",
       "9  Adventure|Animation|Children|Comedy|Fantasy      31     5.0   850466616   \n",
       "\n",
       "   tag  \n",
       "0  NaN  \n",
       "1  NaN  \n",
       "2  NaN  \n",
       "3  NaN  \n",
       "4  NaN  \n",
       "5  NaN  \n",
       "6  NaN  \n",
       "7  NaN  \n",
       "8  NaN  \n",
       "9  NaN  "
      ]
     },
     "execution_count": 29,
     "metadata": {},
     "output_type": "execute_result"
    }
   ],
   "source": [
    "print(\"final_Merge\")\n",
    "final_Merge.head(10)"
   ]
  },
  {
   "cell_type": "markdown",
   "id": "f61d5316",
   "metadata": {},
   "source": [
    "## Exploratory data analysis on prepared Dataset"
   ]
  },
  {
   "cell_type": "code",
   "execution_count": 30,
   "id": "964fa539",
   "metadata": {},
   "outputs": [
    {
     "name": "stdout",
     "output_type": "stream",
     "text": [
      "movieId        int64\n",
      "imdbId         int64\n",
      "tmdbId       float64\n",
      "title         object\n",
      "genres        object\n",
      "userId         int64\n",
      "rating       float64\n",
      "timestamp      int64\n",
      "tag           object\n",
      "dtype: object\n"
     ]
    }
   ],
   "source": [
    "# Exploring data types of all columns \n",
    "data_Types=final_Merge.dtypes\n",
    "print(data_Types)"
   ]
  },
  {
   "cell_type": "code",
   "execution_count": 31,
   "id": "d77b1b2a",
   "metadata": {},
   "outputs": [
    {
     "name": "stdout",
     "output_type": "stream",
     "text": [
      "categorical features :  ['title', 'genres', 'tag']\n"
     ]
    }
   ],
   "source": [
    "eda_data=final_Merge.copy()\n",
    "categorical_Features=[feature for feature in final_Merge.columns if eda_data[feature].dtypes=='O']\n",
    "print(\"categorical features : \",categorical_Features)"
   ]
  },
  {
   "cell_type": "code",
   "execution_count": 32,
   "id": "603494b0",
   "metadata": {},
   "outputs": [
    {
     "name": "stdout",
     "output_type": "stream",
     "text": [
      "numerical features :  ['movieId', 'imdbId', 'tmdbId', 'userId', 'rating', 'timestamp']\n"
     ]
    }
   ],
   "source": [
    "numerical_Features=[feature for feature in final_Merge.columns if eda_data[feature].dtypes!='O']\n",
    "print(\"numerical features : \",numerical_Features)"
   ]
  },
  {
   "cell_type": "code",
   "execution_count": 33,
   "id": "af224864",
   "metadata": {},
   "outputs": [
    {
     "name": "stdout",
     "output_type": "stream",
     "text": [
      "The feature is title and number of categories are 9737\n",
      "The feature is genres and number of categories are 951\n",
      "The feature is tag and number of categories are 1590\n"
     ]
    }
   ],
   "source": [
    "#counting the unique features of categorical data  \n",
    "for feature in categorical_Features:\n",
    "    print('The feature is {} and number of categories are {}'.format(feature,len(eda_data[feature].unique())))"
   ]
  },
  {
   "cell_type": "code",
   "execution_count": 34,
   "id": "093e6500",
   "metadata": {},
   "outputs": [
    {
     "data": {
      "text/html": [
       "<div>\n",
       "<style scoped>\n",
       "    .dataframe tbody tr th:only-of-type {\n",
       "        vertical-align: middle;\n",
       "    }\n",
       "\n",
       "    .dataframe tbody tr th {\n",
       "        vertical-align: top;\n",
       "    }\n",
       "\n",
       "    .dataframe thead th {\n",
       "        text-align: right;\n",
       "    }\n",
       "</style>\n",
       "<table border=\"1\" class=\"dataframe\">\n",
       "  <thead>\n",
       "    <tr style=\"text-align: right;\">\n",
       "      <th></th>\n",
       "      <th>movieId</th>\n",
       "      <th>imdbId</th>\n",
       "      <th>tmdbId</th>\n",
       "      <th>title</th>\n",
       "      <th>genres</th>\n",
       "      <th>userId</th>\n",
       "      <th>rating</th>\n",
       "      <th>timestamp</th>\n",
       "      <th>tag</th>\n",
       "    </tr>\n",
       "  </thead>\n",
       "  <tbody>\n",
       "    <tr>\n",
       "      <th>count</th>\n",
       "      <td>104519.000000</td>\n",
       "      <td>1.045190e+05</td>\n",
       "      <td>104506.000000</td>\n",
       "      <td>104519</td>\n",
       "      <td>104519</td>\n",
       "      <td>104519.000000</td>\n",
       "      <td>100836.000000</td>\n",
       "      <td>1.045190e+05</td>\n",
       "      <td>3683</td>\n",
       "    </tr>\n",
       "    <tr>\n",
       "      <th>unique</th>\n",
       "      <td>NaN</td>\n",
       "      <td>NaN</td>\n",
       "      <td>NaN</td>\n",
       "      <td>9737</td>\n",
       "      <td>951</td>\n",
       "      <td>NaN</td>\n",
       "      <td>NaN</td>\n",
       "      <td>NaN</td>\n",
       "      <td>1589</td>\n",
       "    </tr>\n",
       "    <tr>\n",
       "      <th>top</th>\n",
       "      <td>NaN</td>\n",
       "      <td>NaN</td>\n",
       "      <td>NaN</td>\n",
       "      <td>Pulp Fiction (1994)</td>\n",
       "      <td>Comedy</td>\n",
       "      <td>NaN</td>\n",
       "      <td>NaN</td>\n",
       "      <td>NaN</td>\n",
       "      <td>In Netflix queue</td>\n",
       "    </tr>\n",
       "    <tr>\n",
       "      <th>freq</th>\n",
       "      <td>NaN</td>\n",
       "      <td>NaN</td>\n",
       "      <td>NaN</td>\n",
       "      <td>488</td>\n",
       "      <td>7359</td>\n",
       "      <td>NaN</td>\n",
       "      <td>NaN</td>\n",
       "      <td>NaN</td>\n",
       "      <td>131</td>\n",
       "    </tr>\n",
       "    <tr>\n",
       "      <th>mean</th>\n",
       "      <td>19710.738191</td>\n",
       "      <td>3.559796e+05</td>\n",
       "      <td>20543.697395</td>\n",
       "      <td>NaN</td>\n",
       "      <td>NaN</td>\n",
       "      <td>329.828280</td>\n",
       "      <td>3.501557</td>\n",
       "      <td>1.209966e+09</td>\n",
       "      <td>NaN</td>\n",
       "    </tr>\n",
       "    <tr>\n",
       "      <th>std</th>\n",
       "      <td>35870.238985</td>\n",
       "      <td>6.297058e+05</td>\n",
       "      <td>54157.108637</td>\n",
       "      <td>NaN</td>\n",
       "      <td>NaN</td>\n",
       "      <td>182.849716</td>\n",
       "      <td>1.042529</td>\n",
       "      <td>2.158859e+08</td>\n",
       "      <td>NaN</td>\n",
       "    </tr>\n",
       "    <tr>\n",
       "      <th>min</th>\n",
       "      <td>1.000000</td>\n",
       "      <td>4.170000e+02</td>\n",
       "      <td>2.000000</td>\n",
       "      <td>NaN</td>\n",
       "      <td>NaN</td>\n",
       "      <td>1.000000</td>\n",
       "      <td>0.500000</td>\n",
       "      <td>8.281246e+08</td>\n",
       "      <td>NaN</td>\n",
       "    </tr>\n",
       "    <tr>\n",
       "      <th>25%</th>\n",
       "      <td>1200.000000</td>\n",
       "      <td>9.965300e+04</td>\n",
       "      <td>710.000000</td>\n",
       "      <td>NaN</td>\n",
       "      <td>NaN</td>\n",
       "      <td>177.000000</td>\n",
       "      <td>3.000000</td>\n",
       "      <td>1.026225e+09</td>\n",
       "      <td>NaN</td>\n",
       "    </tr>\n",
       "    <tr>\n",
       "      <th>50%</th>\n",
       "      <td>3022.000000</td>\n",
       "      <td>1.187990e+05</td>\n",
       "      <td>6964.000000</td>\n",
       "      <td>NaN</td>\n",
       "      <td>NaN</td>\n",
       "      <td>333.000000</td>\n",
       "      <td>3.500000</td>\n",
       "      <td>1.186163e+09</td>\n",
       "      <td>NaN</td>\n",
       "    </tr>\n",
       "    <tr>\n",
       "      <th>75%</th>\n",
       "      <td>8361.000000</td>\n",
       "      <td>3.172190e+05</td>\n",
       "      <td>11704.000000</td>\n",
       "      <td>NaN</td>\n",
       "      <td>NaN</td>\n",
       "      <td>477.000000</td>\n",
       "      <td>4.000000</td>\n",
       "      <td>1.439317e+09</td>\n",
       "      <td>NaN</td>\n",
       "    </tr>\n",
       "    <tr>\n",
       "      <th>max</th>\n",
       "      <td>193609.000000</td>\n",
       "      <td>8.391976e+06</td>\n",
       "      <td>525662.000000</td>\n",
       "      <td>NaN</td>\n",
       "      <td>NaN</td>\n",
       "      <td>610.000000</td>\n",
       "      <td>5.000000</td>\n",
       "      <td>1.537799e+09</td>\n",
       "      <td>NaN</td>\n",
       "    </tr>\n",
       "  </tbody>\n",
       "</table>\n",
       "</div>"
      ],
      "text/plain": [
       "              movieId        imdbId         tmdbId                title  \\\n",
       "count   104519.000000  1.045190e+05  104506.000000               104519   \n",
       "unique            NaN           NaN            NaN                 9737   \n",
       "top               NaN           NaN            NaN  Pulp Fiction (1994)   \n",
       "freq              NaN           NaN            NaN                  488   \n",
       "mean     19710.738191  3.559796e+05   20543.697395                  NaN   \n",
       "std      35870.238985  6.297058e+05   54157.108637                  NaN   \n",
       "min          1.000000  4.170000e+02       2.000000                  NaN   \n",
       "25%       1200.000000  9.965300e+04     710.000000                  NaN   \n",
       "50%       3022.000000  1.187990e+05    6964.000000                  NaN   \n",
       "75%       8361.000000  3.172190e+05   11704.000000                  NaN   \n",
       "max     193609.000000  8.391976e+06  525662.000000                  NaN   \n",
       "\n",
       "        genres         userId         rating     timestamp               tag  \n",
       "count   104519  104519.000000  100836.000000  1.045190e+05              3683  \n",
       "unique     951            NaN            NaN           NaN              1589  \n",
       "top     Comedy            NaN            NaN           NaN  In Netflix queue  \n",
       "freq      7359            NaN            NaN           NaN               131  \n",
       "mean       NaN     329.828280       3.501557  1.209966e+09               NaN  \n",
       "std        NaN     182.849716       1.042529  2.158859e+08               NaN  \n",
       "min        NaN       1.000000       0.500000  8.281246e+08               NaN  \n",
       "25%        NaN     177.000000       3.000000  1.026225e+09               NaN  \n",
       "50%        NaN     333.000000       3.500000  1.186163e+09               NaN  \n",
       "75%        NaN     477.000000       4.000000  1.439317e+09               NaN  \n",
       "max        NaN     610.000000       5.000000  1.537799e+09               NaN  "
      ]
     },
     "execution_count": 34,
     "metadata": {},
     "output_type": "execute_result"
    }
   ],
   "source": [
    "#describing the data\n",
    "final_Merge.describe(include='all')"
   ]
  },
  {
   "cell_type": "code",
   "execution_count": 35,
   "id": "d04c4cc0",
   "metadata": {
    "scrolled": true
   },
   "outputs": [
    {
     "name": "stdout",
     "output_type": "stream",
     "text": [
      "<class 'pandas.core.frame.DataFrame'>\n",
      "Int64Index: 104519 entries, 0 to 104518\n",
      "Data columns (total 9 columns):\n",
      " #   Column     Non-Null Count   Dtype  \n",
      "---  ------     --------------   -----  \n",
      " 0   movieId    104519 non-null  int64  \n",
      " 1   imdbId     104519 non-null  int64  \n",
      " 2   tmdbId     104506 non-null  float64\n",
      " 3   title      104519 non-null  object \n",
      " 4   genres     104519 non-null  object \n",
      " 5   userId     104519 non-null  int64  \n",
      " 6   rating     100836 non-null  float64\n",
      " 7   timestamp  104519 non-null  int64  \n",
      " 8   tag        3683 non-null    object \n",
      "dtypes: float64(2), int64(4), object(3)\n",
      "memory usage: 8.0+ MB\n"
     ]
    }
   ],
   "source": [
    "final_Merge.info()"
   ]
  },
  {
   "cell_type": "markdown",
   "id": "7df48bcd",
   "metadata": {},
   "source": [
    "# Q1. 1. Most frequently occuring values in categorical attributes"
   ]
  },
  {
   "cell_type": "markdown",
   "id": "2f7714fa",
   "metadata": {},
   "source": [
    "## Top 10 most frequent in title category"
   ]
  },
  {
   "cell_type": "code",
   "execution_count": 36,
   "id": "b6c63ede",
   "metadata": {},
   "outputs": [
    {
     "name": "stdout",
     "output_type": "stream",
     "text": [
      "Pulp Fiction (1994)                          488\n",
      "Forrest Gump (1994)                          338\n",
      "Shawshank Redemption, The (1994)             321\n",
      "Silence of the Lambs, The (1991)             285\n",
      "Matrix, The (1999)                           283\n",
      "Star Wars: Episode IV - A New Hope (1977)    277\n",
      "Fight Club (1999)                            272\n",
      "Braveheart (1995)                            247\n",
      "Jurassic Park (1993)                         239\n",
      "Terminator 2: Judgment Day (1991)            232\n",
      "Name: title, dtype: int64\n"
     ]
    }
   ],
   "source": [
    "top_10 =10 \n",
    "print(final_Merge['title'].value_counts()[:top_10])"
   ]
  },
  {
   "cell_type": "markdown",
   "id": "35f72efb",
   "metadata": {},
   "source": [
    "## Top 10 most frequent in genres category"
   ]
  },
  {
   "cell_type": "code",
   "execution_count": 37,
   "id": "0c9ab18f",
   "metadata": {},
   "outputs": [
    {
     "name": "stdout",
     "output_type": "stream",
     "text": [
      "Comedy                              7359\n",
      "Drama                               6649\n",
      "Comedy|Romance                      4073\n",
      "Comedy|Drama|Romance                3105\n",
      "Drama|Romance                       2968\n",
      "Comedy|Drama                        2931\n",
      "Action|Adventure|Sci-Fi             2467\n",
      "Crime|Drama                         2386\n",
      "Action|Crime|Thriller               1585\n",
      "Action|Adventure|Sci-Fi|Thriller    1473\n",
      "Name: genres, dtype: int64\n"
     ]
    }
   ],
   "source": [
    "print(final_Merge['genres'].value_counts()[:top_10])"
   ]
  },
  {
   "cell_type": "markdown",
   "id": "d5ab1384",
   "metadata": {},
   "source": [
    "## Top 10 most frequent in tag category"
   ]
  },
  {
   "cell_type": "code",
   "execution_count": 38,
   "id": "d16d47e2",
   "metadata": {},
   "outputs": [
    {
     "name": "stdout",
     "output_type": "stream",
     "text": [
      "In Netflix queue     131\n",
      "atmospheric           36\n",
      "thought-provoking     24\n",
      "superhero             24\n",
      "funny                 23\n",
      "Disney                23\n",
      "surreal               23\n",
      "religion              22\n",
      "dark comedy           21\n",
      "psychology            21\n",
      "Name: tag, dtype: int64\n"
     ]
    }
   ],
   "source": [
    "print(final_Merge['tag'].value_counts()[:top_10])"
   ]
  },
  {
   "cell_type": "markdown",
   "id": "3993354b",
   "metadata": {},
   "source": [
    "# 2.Counting of NaN values per column"
   ]
  },
  {
   "cell_type": "code",
   "execution_count": 39,
   "id": "872dcddb",
   "metadata": {},
   "outputs": [
    {
     "data": {
      "text/plain": [
       "movieId           0\n",
       "imdbId            0\n",
       "tmdbId           13\n",
       "title             0\n",
       "genres            0\n",
       "userId            0\n",
       "rating         3683\n",
       "timestamp         0\n",
       "tag          100836\n",
       "dtype: int64"
      ]
     },
     "execution_count": 39,
     "metadata": {},
     "output_type": "execute_result"
    }
   ],
   "source": [
    "final_Merge.isna().sum()"
   ]
  },
  {
   "cell_type": "markdown",
   "id": "808e8a1c",
   "metadata": {},
   "source": [
    "## counting unique values for each column"
   ]
  },
  {
   "cell_type": "code",
   "execution_count": 40,
   "id": "6bd3a44b",
   "metadata": {},
   "outputs": [
    {
     "name": "stdout",
     "output_type": "stream",
     "text": [
      "movieId       9742\n",
      "imdbId        9742\n",
      "tmdbId        9733\n",
      "title         9737\n",
      "genres         951\n",
      "userId         610\n",
      "rating          10\n",
      "timestamp    88453\n",
      "tag           1589\n",
      "dtype: int64\n"
     ]
    }
   ],
   "source": [
    "# counting unique values in each column \n",
    "unique_Values=final_Merge.nunique()\n",
    "print(unique_Values)"
   ]
  },
  {
   "cell_type": "code",
   "execution_count": 41,
   "id": "3e64a3f9",
   "metadata": {},
   "outputs": [
    {
     "data": {
      "text/plain": [
       "movieId           0\n",
       "imdbId            0\n",
       "tmdbId           13\n",
       "title             0\n",
       "genres            0\n",
       "userId            0\n",
       "rating         3683\n",
       "timestamp         0\n",
       "tag          100836\n",
       "dtype: int64"
      ]
     },
     "execution_count": 41,
     "metadata": {},
     "output_type": "execute_result"
    }
   ],
   "source": [
    "final_Merge.isna().sum()"
   ]
  },
  {
   "cell_type": "code",
   "execution_count": 42,
   "id": "86ef443e",
   "metadata": {},
   "outputs": [
    {
     "data": {
      "text/plain": [
       "In Netflix queue     131\n",
       "atmospheric           36\n",
       "thought-provoking     24\n",
       "superhero             24\n",
       "funny                 23\n",
       "                    ... \n",
       "Chris Klein            1\n",
       "dumb                   1\n",
       "Jason Biggs            1\n",
       "not funny              1\n",
       "remaster               1\n",
       "Name: tag, Length: 1589, dtype: int64"
      ]
     },
     "execution_count": 42,
     "metadata": {},
     "output_type": "execute_result"
    }
   ],
   "source": [
    "final_Merge['tag'].value_counts()"
   ]
  },
  {
   "cell_type": "markdown",
   "id": "4faef133",
   "metadata": {},
   "source": [
    "## fix the NaN values. for rating we'll populate them with mean if movie has already been rated by another user. \n"
   ]
  },
  {
   "cell_type": "code",
   "execution_count": 43,
   "id": "12cb6c95",
   "metadata": {},
   "outputs": [
    {
     "name": "stderr",
     "output_type": "stream",
     "text": [
      "c:\\users\\udit kumar\\appdata\\local\\programs\\python\\python39\\lib\\site-packages\\pandas\\core\\indexing.py:1732: SettingWithCopyWarning: \n",
      "A value is trying to be set on a copy of a slice from a DataFrame\n",
      "\n",
      "See the caveats in the documentation: https://pandas.pydata.org/pandas-docs/stable/user_guide/indexing.html#returning-a-view-versus-a-copy\n",
      "  self._setitem_single_block(indexer, value, name)\n"
     ]
    }
   ],
   "source": [
    "counter=0\n",
    "for row in final_Merge['rating']:\n",
    "    if np.isnan(row):\n",
    "        movie_name=final_Merge['title'].iloc[counter]\n",
    "        counter2=0\n",
    "        rating=0\n",
    "        total=1\n",
    "        for row2 in final_Merge['title']:\n",
    "            if row2==movie_name:\n",
    "                rating=rating+final_Merge['rating'].iloc[counter2]\n",
    "                total=total+1\n",
    "            rating=rating/total\n",
    "            rating=round(rating * 2) / 2\n",
    "        counter2=counter2+1\n",
    "        \n",
    "        final_Merge['rating'].iloc[counter]=rating\n",
    "    counter=counter+1\n",
    "                \n",
    "                \n",
    "                \n",
    "        \n",
    "        \n",
    "        \n",
    "  \n",
    "            \n",
    "        "
   ]
  },
  {
   "cell_type": "code",
   "execution_count": 44,
   "id": "2052064d",
   "metadata": {},
   "outputs": [
    {
     "data": {
      "text/plain": [
       "movieId           0\n",
       "imdbId            0\n",
       "tmdbId           13\n",
       "title             0\n",
       "genres            0\n",
       "userId            0\n",
       "rating            0\n",
       "timestamp         0\n",
       "tag          100836\n",
       "dtype: int64"
      ]
     },
     "execution_count": 44,
     "metadata": {},
     "output_type": "execute_result"
    }
   ],
   "source": [
    "final_Merge.isna().sum()"
   ]
  },
  {
   "cell_type": "markdown",
   "id": "bbc7687f",
   "metadata": {},
   "source": [
    "## remove 13 rows of tmdbid"
   ]
  },
  {
   "cell_type": "code",
   "execution_count": 45,
   "id": "cbca9a50",
   "metadata": {},
   "outputs": [],
   "source": [
    "final_Merge= final_Merge[final_Merge['tmdbId'].notna()]"
   ]
  },
  {
   "cell_type": "code",
   "execution_count": 46,
   "id": "46e23c8e",
   "metadata": {},
   "outputs": [
    {
     "data": {
      "text/plain": [
       "movieId           0\n",
       "imdbId            0\n",
       "tmdbId            0\n",
       "title             0\n",
       "genres            0\n",
       "userId            0\n",
       "rating            0\n",
       "timestamp         0\n",
       "tag          100823\n",
       "dtype: int64"
      ]
     },
     "execution_count": 46,
     "metadata": {},
     "output_type": "execute_result"
    }
   ],
   "source": [
    "final_Merge.isna().sum()"
   ]
  },
  {
   "cell_type": "code",
   "execution_count": 47,
   "id": "4fc4cbfb",
   "metadata": {},
   "outputs": [
    {
     "data": {
      "text/plain": [
       "In Netflix queue     131\n",
       "atmospheric           36\n",
       "thought-provoking     24\n",
       "superhero             24\n",
       "funny                 23\n",
       "                    ... \n",
       "Chris Klein            1\n",
       "dumb                   1\n",
       "Jason Biggs            1\n",
       "not funny              1\n",
       "remaster               1\n",
       "Name: tag, Length: 1589, dtype: int64"
      ]
     },
     "execution_count": 47,
     "metadata": {},
     "output_type": "execute_result"
    }
   ],
   "source": [
    "final_Merge['tag'].value_counts()"
   ]
  },
  {
   "cell_type": "code",
   "execution_count": null,
   "id": "147715ba",
   "metadata": {},
   "outputs": [],
   "source": []
  },
  {
   "cell_type": "markdown",
   "id": "db80e214",
   "metadata": {},
   "source": [
    "# 3.Plotting Correlations between features"
   ]
  },
  {
   "cell_type": "code",
   "execution_count": 48,
   "id": "f3d72cd3",
   "metadata": {},
   "outputs": [],
   "source": [
    "import matplotlib.pyplot as plt\n",
    "%matplotlib inline\n",
    "import seaborn as sns"
   ]
  },
  {
   "cell_type": "code",
   "execution_count": 49,
   "id": "b909dadd",
   "metadata": {},
   "outputs": [
    {
     "name": "stdout",
     "output_type": "stream",
     "text": [
      "            movieId    imdbId    tmdbId    userId    rating  timestamp\n",
      "movieId    1.000000  0.860243  0.746341 -0.001475 -0.024783   0.500826\n",
      "imdbId     0.860243  1.000000  0.834988 -0.008620 -0.026071   0.410918\n",
      "tmdbId     0.746341  0.834988  1.000000 -0.001941 -0.041816   0.293208\n",
      "userId    -0.001475 -0.008620 -0.001941  1.000000 -0.097364   0.097763\n",
      "rating    -0.024783 -0.026071 -0.041816 -0.097364  1.000000  -0.056785\n",
      "timestamp  0.500826  0.410918  0.293208  0.097763 -0.056785   1.000000\n"
     ]
    },
    {
     "data": {
      "image/png": "[encoded data removed]",
      "text/plain": [
       "<Figure size 432x288 with 2 Axes>"
      ]
     },
     "metadata": {
      "needs_background": "light"
     },
     "output_type": "display_data"
    }
   ],
   "source": [
    "\n",
    "print(final_Merge.corr())\n",
    "  \n",
    "# plotting correlation heatmap\n",
    "dataplot = sns.heatmap(final_Merge.corr(),cmap='gist_heat', annot=True)\n",
    "  \n",
    "# displaying heatmap\n",
    "plt.show()"
   ]
  },
  {
   "cell_type": "code",
   "execution_count": 50,
   "id": "89eeaf38",
   "metadata": {},
   "outputs": [],
   "source": [
    "copy_data=final_Merge.copy()"
   ]
  },
  {
   "cell_type": "code",
   "execution_count": 51,
   "id": "afebc142",
   "metadata": {},
   "outputs": [
    {
     "data": {
      "text/html": [
       "<div>\n",
       "<style scoped>\n",
       "    .dataframe tbody tr th:only-of-type {\n",
       "        vertical-align: middle;\n",
       "    }\n",
       "\n",
       "    .dataframe tbody tr th {\n",
       "        vertical-align: top;\n",
       "    }\n",
       "\n",
       "    .dataframe thead th {\n",
       "        text-align: right;\n",
       "    }\n",
       "</style>\n",
       "<table border=\"1\" class=\"dataframe\">\n",
       "  <thead>\n",
       "    <tr style=\"text-align: right;\">\n",
       "      <th></th>\n",
       "      <th>movieId</th>\n",
       "      <th>imdbId</th>\n",
       "      <th>tmdbId</th>\n",
       "      <th>title</th>\n",
       "      <th>genres</th>\n",
       "      <th>userId</th>\n",
       "      <th>rating</th>\n",
       "      <th>timestamp</th>\n",
       "      <th>tag</th>\n",
       "    </tr>\n",
       "  </thead>\n",
       "  <tbody>\n",
       "    <tr>\n",
       "      <th>0</th>\n",
       "      <td>1</td>\n",
       "      <td>114709</td>\n",
       "      <td>862.0</td>\n",
       "      <td>Toy Story (1995)</td>\n",
       "      <td>Adventure|Animation|Children|Comedy|Fantasy</td>\n",
       "      <td>1</td>\n",
       "      <td>4.0</td>\n",
       "      <td>964982703</td>\n",
       "      <td>NaN</td>\n",
       "    </tr>\n",
       "    <tr>\n",
       "      <th>1</th>\n",
       "      <td>1</td>\n",
       "      <td>114709</td>\n",
       "      <td>862.0</td>\n",
       "      <td>Toy Story (1995)</td>\n",
       "      <td>Adventure|Animation|Children|Comedy|Fantasy</td>\n",
       "      <td>5</td>\n",
       "      <td>4.0</td>\n",
       "      <td>847434962</td>\n",
       "      <td>NaN</td>\n",
       "    </tr>\n",
       "    <tr>\n",
       "      <th>2</th>\n",
       "      <td>1</td>\n",
       "      <td>114709</td>\n",
       "      <td>862.0</td>\n",
       "      <td>Toy Story (1995)</td>\n",
       "      <td>Adventure|Animation|Children|Comedy|Fantasy</td>\n",
       "      <td>7</td>\n",
       "      <td>4.5</td>\n",
       "      <td>1106635946</td>\n",
       "      <td>NaN</td>\n",
       "    </tr>\n",
       "    <tr>\n",
       "      <th>3</th>\n",
       "      <td>1</td>\n",
       "      <td>114709</td>\n",
       "      <td>862.0</td>\n",
       "      <td>Toy Story (1995)</td>\n",
       "      <td>Adventure|Animation|Children|Comedy|Fantasy</td>\n",
       "      <td>15</td>\n",
       "      <td>2.5</td>\n",
       "      <td>1510577970</td>\n",
       "      <td>NaN</td>\n",
       "    </tr>\n",
       "    <tr>\n",
       "      <th>4</th>\n",
       "      <td>1</td>\n",
       "      <td>114709</td>\n",
       "      <td>862.0</td>\n",
       "      <td>Toy Story (1995)</td>\n",
       "      <td>Adventure|Animation|Children|Comedy|Fantasy</td>\n",
       "      <td>17</td>\n",
       "      <td>4.5</td>\n",
       "      <td>1305696483</td>\n",
       "      <td>NaN</td>\n",
       "    </tr>\n",
       "    <tr>\n",
       "      <th>...</th>\n",
       "      <td>...</td>\n",
       "      <td>...</td>\n",
       "      <td>...</td>\n",
       "      <td>...</td>\n",
       "      <td>...</td>\n",
       "      <td>...</td>\n",
       "      <td>...</td>\n",
       "      <td>...</td>\n",
       "      <td>...</td>\n",
       "    </tr>\n",
       "    <tr>\n",
       "      <th>104514</th>\n",
       "      <td>193581</td>\n",
       "      <td>5476944</td>\n",
       "      <td>432131.0</td>\n",
       "      <td>Black Butler: Book of the Atlantic (2017)</td>\n",
       "      <td>Action|Animation|Comedy|Fantasy</td>\n",
       "      <td>184</td>\n",
       "      <td>4.0</td>\n",
       "      <td>1537109082</td>\n",
       "      <td>NaN</td>\n",
       "    </tr>\n",
       "    <tr>\n",
       "      <th>104515</th>\n",
       "      <td>193583</td>\n",
       "      <td>5914996</td>\n",
       "      <td>445030.0</td>\n",
       "      <td>No Game No Life: Zero (2017)</td>\n",
       "      <td>Animation|Comedy|Fantasy</td>\n",
       "      <td>184</td>\n",
       "      <td>3.5</td>\n",
       "      <td>1537109545</td>\n",
       "      <td>NaN</td>\n",
       "    </tr>\n",
       "    <tr>\n",
       "      <th>104516</th>\n",
       "      <td>193585</td>\n",
       "      <td>6397426</td>\n",
       "      <td>479308.0</td>\n",
       "      <td>Flint (2017)</td>\n",
       "      <td>Drama</td>\n",
       "      <td>184</td>\n",
       "      <td>3.5</td>\n",
       "      <td>1537109805</td>\n",
       "      <td>NaN</td>\n",
       "    </tr>\n",
       "    <tr>\n",
       "      <th>104517</th>\n",
       "      <td>193587</td>\n",
       "      <td>8391976</td>\n",
       "      <td>483455.0</td>\n",
       "      <td>Bungo Stray Dogs: Dead Apple (2018)</td>\n",
       "      <td>Action|Animation</td>\n",
       "      <td>184</td>\n",
       "      <td>3.5</td>\n",
       "      <td>1537110021</td>\n",
       "      <td>NaN</td>\n",
       "    </tr>\n",
       "    <tr>\n",
       "      <th>104518</th>\n",
       "      <td>193609</td>\n",
       "      <td>101726</td>\n",
       "      <td>37891.0</td>\n",
       "      <td>Andrew Dice Clay: Dice Rules (1991)</td>\n",
       "      <td>Comedy</td>\n",
       "      <td>331</td>\n",
       "      <td>4.0</td>\n",
       "      <td>1537157606</td>\n",
       "      <td>NaN</td>\n",
       "    </tr>\n",
       "  </tbody>\n",
       "</table>\n",
       "<p>104506 rows × 9 columns</p>\n",
       "</div>"
      ],
      "text/plain": [
       "        movieId   imdbId    tmdbId                                      title  \\\n",
       "0             1   114709     862.0                           Toy Story (1995)   \n",
       "1             1   114709     862.0                           Toy Story (1995)   \n",
       "2             1   114709     862.0                           Toy Story (1995)   \n",
       "3             1   114709     862.0                           Toy Story (1995)   \n",
       "4             1   114709     862.0                           Toy Story (1995)   \n",
       "...         ...      ...       ...                                        ...   \n",
       "104514   193581  5476944  432131.0  Black Butler: Book of the Atlantic (2017)   \n",
       "104515   193583  5914996  445030.0               No Game No Life: Zero (2017)   \n",
       "104516   193585  6397426  479308.0                               Flint (2017)   \n",
       "104517   193587  8391976  483455.0        Bungo Stray Dogs: Dead Apple (2018)   \n",
       "104518   193609   101726   37891.0        Andrew Dice Clay: Dice Rules (1991)   \n",
       "\n",
       "                                             genres  userId  rating  \\\n",
       "0       Adventure|Animation|Children|Comedy|Fantasy       1     4.0   \n",
       "1       Adventure|Animation|Children|Comedy|Fantasy       5     4.0   \n",
       "2       Adventure|Animation|Children|Comedy|Fantasy       7     4.5   \n",
       "3       Adventure|Animation|Children|Comedy|Fantasy      15     2.5   \n",
       "4       Adventure|Animation|Children|Comedy|Fantasy      17     4.5   \n",
       "...                                             ...     ...     ...   \n",
       "104514              Action|Animation|Comedy|Fantasy     184     4.0   \n",
       "104515                     Animation|Comedy|Fantasy     184     3.5   \n",
       "104516                                        Drama     184     3.5   \n",
       "104517                             Action|Animation     184     3.5   \n",
       "104518                                       Comedy     331     4.0   \n",
       "\n",
       "         timestamp  tag  \n",
       "0        964982703  NaN  \n",
       "1        847434962  NaN  \n",
       "2       1106635946  NaN  \n",
       "3       1510577970  NaN  \n",
       "4       1305696483  NaN  \n",
       "...            ...  ...  \n",
       "104514  1537109082  NaN  \n",
       "104515  1537109545  NaN  \n",
       "104516  1537109805  NaN  \n",
       "104517  1537110021  NaN  \n",
       "104518  1537157606  NaN  \n",
       "\n",
       "[104506 rows x 9 columns]"
      ]
     },
     "execution_count": 51,
     "metadata": {},
     "output_type": "execute_result"
    }
   ],
   "source": [
    "copy_data"
   ]
  },
  {
   "cell_type": "code",
   "execution_count": 52,
   "id": "8695beb4",
   "metadata": {},
   "outputs": [],
   "source": [
    "copy_data=copy_data[['userId','title','rating']]"
   ]
  },
  {
   "cell_type": "code",
   "execution_count": 53,
   "id": "733fc932",
   "metadata": {},
   "outputs": [],
   "source": [
    "copy_data=copy_data.drop_duplicates(['userId','title'])"
   ]
  },
  {
   "cell_type": "code",
   "execution_count": 54,
   "id": "86b0e1d6",
   "metadata": {},
   "outputs": [
    {
     "data": {
      "text/html": [
       "<div>\n",
       "<style scoped>\n",
       "    .dataframe tbody tr th:only-of-type {\n",
       "        vertical-align: middle;\n",
       "    }\n",
       "\n",
       "    .dataframe tbody tr th {\n",
       "        vertical-align: top;\n",
       "    }\n",
       "\n",
       "    .dataframe thead th {\n",
       "        text-align: right;\n",
       "    }\n",
       "</style>\n",
       "<table border=\"1\" class=\"dataframe\">\n",
       "  <thead>\n",
       "    <tr style=\"text-align: right;\">\n",
       "      <th></th>\n",
       "      <th>userId</th>\n",
       "      <th>title</th>\n",
       "      <th>rating</th>\n",
       "    </tr>\n",
       "  </thead>\n",
       "  <tbody>\n",
       "    <tr>\n",
       "      <th>0</th>\n",
       "      <td>1</td>\n",
       "      <td>Toy Story (1995)</td>\n",
       "      <td>4.0</td>\n",
       "    </tr>\n",
       "    <tr>\n",
       "      <th>1</th>\n",
       "      <td>5</td>\n",
       "      <td>Toy Story (1995)</td>\n",
       "      <td>4.0</td>\n",
       "    </tr>\n",
       "    <tr>\n",
       "      <th>2</th>\n",
       "      <td>7</td>\n",
       "      <td>Toy Story (1995)</td>\n",
       "      <td>4.5</td>\n",
       "    </tr>\n",
       "    <tr>\n",
       "      <th>3</th>\n",
       "      <td>15</td>\n",
       "      <td>Toy Story (1995)</td>\n",
       "      <td>2.5</td>\n",
       "    </tr>\n",
       "    <tr>\n",
       "      <th>4</th>\n",
       "      <td>17</td>\n",
       "      <td>Toy Story (1995)</td>\n",
       "      <td>4.5</td>\n",
       "    </tr>\n",
       "    <tr>\n",
       "      <th>...</th>\n",
       "      <td>...</td>\n",
       "      <td>...</td>\n",
       "      <td>...</td>\n",
       "    </tr>\n",
       "    <tr>\n",
       "      <th>104514</th>\n",
       "      <td>184</td>\n",
       "      <td>Black Butler: Book of the Atlantic (2017)</td>\n",
       "      <td>4.0</td>\n",
       "    </tr>\n",
       "    <tr>\n",
       "      <th>104515</th>\n",
       "      <td>184</td>\n",
       "      <td>No Game No Life: Zero (2017)</td>\n",
       "      <td>3.5</td>\n",
       "    </tr>\n",
       "    <tr>\n",
       "      <th>104516</th>\n",
       "      <td>184</td>\n",
       "      <td>Flint (2017)</td>\n",
       "      <td>3.5</td>\n",
       "    </tr>\n",
       "    <tr>\n",
       "      <th>104517</th>\n",
       "      <td>184</td>\n",
       "      <td>Bungo Stray Dogs: Dead Apple (2018)</td>\n",
       "      <td>3.5</td>\n",
       "    </tr>\n",
       "    <tr>\n",
       "      <th>104518</th>\n",
       "      <td>331</td>\n",
       "      <td>Andrew Dice Clay: Dice Rules (1991)</td>\n",
       "      <td>4.0</td>\n",
       "    </tr>\n",
       "  </tbody>\n",
       "</table>\n",
       "<p>100959 rows × 3 columns</p>\n",
       "</div>"
      ],
      "text/plain": [
       "        userId                                      title  rating\n",
       "0            1                           Toy Story (1995)     4.0\n",
       "1            5                           Toy Story (1995)     4.0\n",
       "2            7                           Toy Story (1995)     4.5\n",
       "3           15                           Toy Story (1995)     2.5\n",
       "4           17                           Toy Story (1995)     4.5\n",
       "...        ...                                        ...     ...\n",
       "104514     184  Black Butler: Book of the Atlantic (2017)     4.0\n",
       "104515     184               No Game No Life: Zero (2017)     3.5\n",
       "104516     184                               Flint (2017)     3.5\n",
       "104517     184        Bungo Stray Dogs: Dead Apple (2018)     3.5\n",
       "104518     331        Andrew Dice Clay: Dice Rules (1991)     4.0\n",
       "\n",
       "[100959 rows x 3 columns]"
      ]
     },
     "execution_count": 54,
     "metadata": {},
     "output_type": "execute_result"
    }
   ],
   "source": [
    "copy_data"
   ]
  },
  {
   "cell_type": "code",
   "execution_count": 55,
   "id": "4b2b055d",
   "metadata": {},
   "outputs": [],
   "source": [
    "copy_data_Q3 = copy_data.copy()\n",
    "copy_data_Q2 = copy_data.copy()\n",
    "movies_Df = copy_data.copy()"
   ]
  },
  {
   "cell_type": "code",
   "execution_count": null,
   "id": "9fbc9d50",
   "metadata": {},
   "outputs": [],
   "source": []
  },
  {
   "cell_type": "code",
   "execution_count": null,
   "id": "e6e75b08",
   "metadata": {},
   "outputs": [],
   "source": []
  },
  {
   "cell_type": "code",
   "execution_count": 56,
   "id": "24333e13",
   "metadata": {},
   "outputs": [],
   "source": [
    "prep_Data = copy_data.pivot(index='userId',columns='title',values='rating')"
   ]
  },
  {
   "cell_type": "code",
   "execution_count": 57,
   "id": "1549cca6",
   "metadata": {},
   "outputs": [],
   "source": [
    "prep_Data.fillna(0,inplace=True)"
   ]
  },
  {
   "cell_type": "code",
   "execution_count": 58,
   "id": "a244e83f",
   "metadata": {},
   "outputs": [
    {
     "data": {
      "text/html": [
       "<div>\n",
       "<style scoped>\n",
       "    .dataframe tbody tr th:only-of-type {\n",
       "        vertical-align: middle;\n",
       "    }\n",
       "\n",
       "    .dataframe tbody tr th {\n",
       "        vertical-align: top;\n",
       "    }\n",
       "\n",
       "    .dataframe thead th {\n",
       "        text-align: right;\n",
       "    }\n",
       "</style>\n",
       "<table border=\"1\" class=\"dataframe\">\n",
       "  <thead>\n",
       "    <tr style=\"text-align: right;\">\n",
       "      <th>title</th>\n",
       "      <th>'71 (2014)</th>\n",
       "      <th>'Hellboy': The Seeds of Creation (2004)</th>\n",
       "      <th>'Round Midnight (1986)</th>\n",
       "      <th>'Salem's Lot (2004)</th>\n",
       "      <th>'Til There Was You (1997)</th>\n",
       "      <th>'Tis the Season for Love (2015)</th>\n",
       "      <th>'burbs, The (1989)</th>\n",
       "      <th>'night Mother (1986)</th>\n",
       "      <th>(500) Days of Summer (2009)</th>\n",
       "      <th>*batteries not included (1987)</th>\n",
       "      <th>...</th>\n",
       "      <th>Zulu (2013)</th>\n",
       "      <th>[REC] (2007)</th>\n",
       "      <th>[REC]² (2009)</th>\n",
       "      <th>[REC]³ 3 Génesis (2012)</th>\n",
       "      <th>anohana: The Flower We Saw That Day - The Movie (2013)</th>\n",
       "      <th>eXistenZ (1999)</th>\n",
       "      <th>xXx (2002)</th>\n",
       "      <th>xXx: State of the Union (2005)</th>\n",
       "      <th>¡Three Amigos! (1986)</th>\n",
       "      <th>À nous la liberté (Freedom for Us) (1931)</th>\n",
       "    </tr>\n",
       "    <tr>\n",
       "      <th>userId</th>\n",
       "      <th></th>\n",
       "      <th></th>\n",
       "      <th></th>\n",
       "      <th></th>\n",
       "      <th></th>\n",
       "      <th></th>\n",
       "      <th></th>\n",
       "      <th></th>\n",
       "      <th></th>\n",
       "      <th></th>\n",
       "      <th></th>\n",
       "      <th></th>\n",
       "      <th></th>\n",
       "      <th></th>\n",
       "      <th></th>\n",
       "      <th></th>\n",
       "      <th></th>\n",
       "      <th></th>\n",
       "      <th></th>\n",
       "      <th></th>\n",
       "      <th></th>\n",
       "    </tr>\n",
       "  </thead>\n",
       "  <tbody>\n",
       "    <tr>\n",
       "      <th>606</th>\n",
       "      <td>0.0</td>\n",
       "      <td>0.0</td>\n",
       "      <td>0.0</td>\n",
       "      <td>0.0</td>\n",
       "      <td>0.0</td>\n",
       "      <td>0.0</td>\n",
       "      <td>0.0</td>\n",
       "      <td>0.0</td>\n",
       "      <td>0.0</td>\n",
       "      <td>0.0</td>\n",
       "      <td>...</td>\n",
       "      <td>0.0</td>\n",
       "      <td>0.0</td>\n",
       "      <td>0.0</td>\n",
       "      <td>0.0</td>\n",
       "      <td>0.0</td>\n",
       "      <td>0.0</td>\n",
       "      <td>0.0</td>\n",
       "      <td>0.0</td>\n",
       "      <td>0.0</td>\n",
       "      <td>0.0</td>\n",
       "    </tr>\n",
       "    <tr>\n",
       "      <th>607</th>\n",
       "      <td>0.0</td>\n",
       "      <td>0.0</td>\n",
       "      <td>0.0</td>\n",
       "      <td>0.0</td>\n",
       "      <td>0.0</td>\n",
       "      <td>0.0</td>\n",
       "      <td>0.0</td>\n",
       "      <td>0.0</td>\n",
       "      <td>0.0</td>\n",
       "      <td>0.0</td>\n",
       "      <td>...</td>\n",
       "      <td>0.0</td>\n",
       "      <td>0.0</td>\n",
       "      <td>0.0</td>\n",
       "      <td>0.0</td>\n",
       "      <td>0.0</td>\n",
       "      <td>0.0</td>\n",
       "      <td>0.0</td>\n",
       "      <td>0.0</td>\n",
       "      <td>0.0</td>\n",
       "      <td>0.0</td>\n",
       "    </tr>\n",
       "    <tr>\n",
       "      <th>608</th>\n",
       "      <td>0.0</td>\n",
       "      <td>0.0</td>\n",
       "      <td>0.0</td>\n",
       "      <td>0.0</td>\n",
       "      <td>0.0</td>\n",
       "      <td>0.0</td>\n",
       "      <td>0.0</td>\n",
       "      <td>0.0</td>\n",
       "      <td>0.0</td>\n",
       "      <td>0.0</td>\n",
       "      <td>...</td>\n",
       "      <td>0.0</td>\n",
       "      <td>0.0</td>\n",
       "      <td>0.0</td>\n",
       "      <td>0.0</td>\n",
       "      <td>0.0</td>\n",
       "      <td>4.5</td>\n",
       "      <td>3.5</td>\n",
       "      <td>0.0</td>\n",
       "      <td>0.0</td>\n",
       "      <td>0.0</td>\n",
       "    </tr>\n",
       "    <tr>\n",
       "      <th>609</th>\n",
       "      <td>0.0</td>\n",
       "      <td>0.0</td>\n",
       "      <td>0.0</td>\n",
       "      <td>0.0</td>\n",
       "      <td>0.0</td>\n",
       "      <td>0.0</td>\n",
       "      <td>0.0</td>\n",
       "      <td>0.0</td>\n",
       "      <td>0.0</td>\n",
       "      <td>0.0</td>\n",
       "      <td>...</td>\n",
       "      <td>0.0</td>\n",
       "      <td>0.0</td>\n",
       "      <td>0.0</td>\n",
       "      <td>0.0</td>\n",
       "      <td>0.0</td>\n",
       "      <td>0.0</td>\n",
       "      <td>0.0</td>\n",
       "      <td>0.0</td>\n",
       "      <td>0.0</td>\n",
       "      <td>0.0</td>\n",
       "    </tr>\n",
       "    <tr>\n",
       "      <th>610</th>\n",
       "      <td>4.0</td>\n",
       "      <td>0.0</td>\n",
       "      <td>0.0</td>\n",
       "      <td>0.0</td>\n",
       "      <td>0.0</td>\n",
       "      <td>0.0</td>\n",
       "      <td>0.0</td>\n",
       "      <td>0.0</td>\n",
       "      <td>3.5</td>\n",
       "      <td>0.0</td>\n",
       "      <td>...</td>\n",
       "      <td>0.0</td>\n",
       "      <td>4.0</td>\n",
       "      <td>3.5</td>\n",
       "      <td>3.0</td>\n",
       "      <td>0.0</td>\n",
       "      <td>0.0</td>\n",
       "      <td>2.0</td>\n",
       "      <td>1.5</td>\n",
       "      <td>0.0</td>\n",
       "      <td>0.0</td>\n",
       "    </tr>\n",
       "  </tbody>\n",
       "</table>\n",
       "<p>5 rows × 9731 columns</p>\n",
       "</div>"
      ],
      "text/plain": [
       "title   '71 (2014)  'Hellboy': The Seeds of Creation (2004)  \\\n",
       "userId                                                        \n",
       "606            0.0                                      0.0   \n",
       "607            0.0                                      0.0   \n",
       "608            0.0                                      0.0   \n",
       "609            0.0                                      0.0   \n",
       "610            4.0                                      0.0   \n",
       "\n",
       "title   'Round Midnight (1986)  'Salem's Lot (2004)  \\\n",
       "userId                                                \n",
       "606                        0.0                  0.0   \n",
       "607                        0.0                  0.0   \n",
       "608                        0.0                  0.0   \n",
       "609                        0.0                  0.0   \n",
       "610                        0.0                  0.0   \n",
       "\n",
       "title   'Til There Was You (1997)  'Tis the Season for Love (2015)  \\\n",
       "userId                                                               \n",
       "606                           0.0                              0.0   \n",
       "607                           0.0                              0.0   \n",
       "608                           0.0                              0.0   \n",
       "609                           0.0                              0.0   \n",
       "610                           0.0                              0.0   \n",
       "\n",
       "title   'burbs, The (1989)  'night Mother (1986)  (500) Days of Summer (2009)  \\\n",
       "userId                                                                          \n",
       "606                    0.0                   0.0                          0.0   \n",
       "607                    0.0                   0.0                          0.0   \n",
       "608                    0.0                   0.0                          0.0   \n",
       "609                    0.0                   0.0                          0.0   \n",
       "610                    0.0                   0.0                          3.5   \n",
       "\n",
       "title   *batteries not included (1987)  ...  Zulu (2013)  [REC] (2007)  \\\n",
       "userId                                  ...                              \n",
       "606                                0.0  ...          0.0           0.0   \n",
       "607                                0.0  ...          0.0           0.0   \n",
       "608                                0.0  ...          0.0           0.0   \n",
       "609                                0.0  ...          0.0           0.0   \n",
       "610                                0.0  ...          0.0           4.0   \n",
       "\n",
       "title   [REC]² (2009)  [REC]³ 3 Génesis (2012)  \\\n",
       "userId                                           \n",
       "606               0.0                      0.0   \n",
       "607               0.0                      0.0   \n",
       "608               0.0                      0.0   \n",
       "609               0.0                      0.0   \n",
       "610               3.5                      3.0   \n",
       "\n",
       "title   anohana: The Flower We Saw That Day - The Movie (2013)  \\\n",
       "userId                                                           \n",
       "606                                                   0.0        \n",
       "607                                                   0.0        \n",
       "608                                                   0.0        \n",
       "609                                                   0.0        \n",
       "610                                                   0.0        \n",
       "\n",
       "title   eXistenZ (1999)  xXx (2002)  xXx: State of the Union (2005)  \\\n",
       "userId                                                                \n",
       "606                 0.0         0.0                             0.0   \n",
       "607                 0.0         0.0                             0.0   \n",
       "608                 4.5         3.5                             0.0   \n",
       "609                 0.0         0.0                             0.0   \n",
       "610                 0.0         2.0                             1.5   \n",
       "\n",
       "title   ¡Three Amigos! (1986)  À nous la liberté (Freedom for Us) (1931)  \n",
       "userId                                                                    \n",
       "606                       0.0                                        0.0  \n",
       "607                       0.0                                        0.0  \n",
       "608                       0.0                                        0.0  \n",
       "609                       0.0                                        0.0  \n",
       "610                       0.0                                        0.0  \n",
       "\n",
       "[5 rows x 9731 columns]"
      ]
     },
     "execution_count": 58,
     "metadata": {},
     "output_type": "execute_result"
    }
   ],
   "source": [
    "prep_Data.tail()"
   ]
  },
  {
   "cell_type": "code",
   "execution_count": 59,
   "id": "8e9b567d",
   "metadata": {},
   "outputs": [],
   "source": [
    "# function binarizing as per the Precision@k we are giving more preference to movies whose rating is >=3.5\n",
    "def binarizing(x): \n",
    "    if(x < 3.5): \n",
    "        return 0\n",
    "    else: \n",
    "        return 1"
   ]
  },
  {
   "cell_type": "code",
   "execution_count": 60,
   "id": "b4e568a4",
   "metadata": {},
   "outputs": [],
   "source": [
    "prep_Data =prep_Data.applymap(binarizing)"
   ]
  },
  {
   "cell_type": "code",
   "execution_count": 61,
   "id": "8e1798ad",
   "metadata": {},
   "outputs": [
    {
     "data": {
      "text/html": [
       "<div>\n",
       "<style scoped>\n",
       "    .dataframe tbody tr th:only-of-type {\n",
       "        vertical-align: middle;\n",
       "    }\n",
       "\n",
       "    .dataframe tbody tr th {\n",
       "        vertical-align: top;\n",
       "    }\n",
       "\n",
       "    .dataframe thead th {\n",
       "        text-align: right;\n",
       "    }\n",
       "</style>\n",
       "<table border=\"1\" class=\"dataframe\">\n",
       "  <thead>\n",
       "    <tr style=\"text-align: right;\">\n",
       "      <th>title</th>\n",
       "      <th>'71 (2014)</th>\n",
       "      <th>'Hellboy': The Seeds of Creation (2004)</th>\n",
       "      <th>'Round Midnight (1986)</th>\n",
       "      <th>'Salem's Lot (2004)</th>\n",
       "      <th>'Til There Was You (1997)</th>\n",
       "      <th>'Tis the Season for Love (2015)</th>\n",
       "      <th>'burbs, The (1989)</th>\n",
       "      <th>'night Mother (1986)</th>\n",
       "      <th>(500) Days of Summer (2009)</th>\n",
       "      <th>*batteries not included (1987)</th>\n",
       "      <th>...</th>\n",
       "      <th>Zulu (2013)</th>\n",
       "      <th>[REC] (2007)</th>\n",
       "      <th>[REC]² (2009)</th>\n",
       "      <th>[REC]³ 3 Génesis (2012)</th>\n",
       "      <th>anohana: The Flower We Saw That Day - The Movie (2013)</th>\n",
       "      <th>eXistenZ (1999)</th>\n",
       "      <th>xXx (2002)</th>\n",
       "      <th>xXx: State of the Union (2005)</th>\n",
       "      <th>¡Three Amigos! (1986)</th>\n",
       "      <th>À nous la liberté (Freedom for Us) (1931)</th>\n",
       "    </tr>\n",
       "    <tr>\n",
       "      <th>userId</th>\n",
       "      <th></th>\n",
       "      <th></th>\n",
       "      <th></th>\n",
       "      <th></th>\n",
       "      <th></th>\n",
       "      <th></th>\n",
       "      <th></th>\n",
       "      <th></th>\n",
       "      <th></th>\n",
       "      <th></th>\n",
       "      <th></th>\n",
       "      <th></th>\n",
       "      <th></th>\n",
       "      <th></th>\n",
       "      <th></th>\n",
       "      <th></th>\n",
       "      <th></th>\n",
       "      <th></th>\n",
       "      <th></th>\n",
       "      <th></th>\n",
       "      <th></th>\n",
       "    </tr>\n",
       "  </thead>\n",
       "  <tbody>\n",
       "    <tr>\n",
       "      <th>1</th>\n",
       "      <td>0</td>\n",
       "      <td>0</td>\n",
       "      <td>0</td>\n",
       "      <td>0</td>\n",
       "      <td>0</td>\n",
       "      <td>0</td>\n",
       "      <td>0</td>\n",
       "      <td>0</td>\n",
       "      <td>0</td>\n",
       "      <td>0</td>\n",
       "      <td>...</td>\n",
       "      <td>0</td>\n",
       "      <td>0</td>\n",
       "      <td>0</td>\n",
       "      <td>0</td>\n",
       "      <td>0</td>\n",
       "      <td>0</td>\n",
       "      <td>0</td>\n",
       "      <td>0</td>\n",
       "      <td>1</td>\n",
       "      <td>0</td>\n",
       "    </tr>\n",
       "    <tr>\n",
       "      <th>2</th>\n",
       "      <td>0</td>\n",
       "      <td>0</td>\n",
       "      <td>0</td>\n",
       "      <td>0</td>\n",
       "      <td>0</td>\n",
       "      <td>0</td>\n",
       "      <td>0</td>\n",
       "      <td>0</td>\n",
       "      <td>0</td>\n",
       "      <td>0</td>\n",
       "      <td>...</td>\n",
       "      <td>0</td>\n",
       "      <td>0</td>\n",
       "      <td>0</td>\n",
       "      <td>0</td>\n",
       "      <td>0</td>\n",
       "      <td>0</td>\n",
       "      <td>0</td>\n",
       "      <td>0</td>\n",
       "      <td>0</td>\n",
       "      <td>0</td>\n",
       "    </tr>\n",
       "    <tr>\n",
       "      <th>3</th>\n",
       "      <td>0</td>\n",
       "      <td>0</td>\n",
       "      <td>0</td>\n",
       "      <td>0</td>\n",
       "      <td>0</td>\n",
       "      <td>0</td>\n",
       "      <td>0</td>\n",
       "      <td>0</td>\n",
       "      <td>0</td>\n",
       "      <td>0</td>\n",
       "      <td>...</td>\n",
       "      <td>0</td>\n",
       "      <td>0</td>\n",
       "      <td>0</td>\n",
       "      <td>0</td>\n",
       "      <td>0</td>\n",
       "      <td>0</td>\n",
       "      <td>0</td>\n",
       "      <td>0</td>\n",
       "      <td>0</td>\n",
       "      <td>0</td>\n",
       "    </tr>\n",
       "    <tr>\n",
       "      <th>4</th>\n",
       "      <td>0</td>\n",
       "      <td>0</td>\n",
       "      <td>0</td>\n",
       "      <td>0</td>\n",
       "      <td>0</td>\n",
       "      <td>0</td>\n",
       "      <td>0</td>\n",
       "      <td>0</td>\n",
       "      <td>0</td>\n",
       "      <td>0</td>\n",
       "      <td>...</td>\n",
       "      <td>0</td>\n",
       "      <td>0</td>\n",
       "      <td>0</td>\n",
       "      <td>0</td>\n",
       "      <td>0</td>\n",
       "      <td>0</td>\n",
       "      <td>0</td>\n",
       "      <td>0</td>\n",
       "      <td>0</td>\n",
       "      <td>0</td>\n",
       "    </tr>\n",
       "    <tr>\n",
       "      <th>5</th>\n",
       "      <td>0</td>\n",
       "      <td>0</td>\n",
       "      <td>0</td>\n",
       "      <td>0</td>\n",
       "      <td>0</td>\n",
       "      <td>0</td>\n",
       "      <td>0</td>\n",
       "      <td>0</td>\n",
       "      <td>0</td>\n",
       "      <td>0</td>\n",
       "      <td>...</td>\n",
       "      <td>0</td>\n",
       "      <td>0</td>\n",
       "      <td>0</td>\n",
       "      <td>0</td>\n",
       "      <td>0</td>\n",
       "      <td>0</td>\n",
       "      <td>0</td>\n",
       "      <td>0</td>\n",
       "      <td>0</td>\n",
       "      <td>0</td>\n",
       "    </tr>\n",
       "    <tr>\n",
       "      <th>...</th>\n",
       "      <td>...</td>\n",
       "      <td>...</td>\n",
       "      <td>...</td>\n",
       "      <td>...</td>\n",
       "      <td>...</td>\n",
       "      <td>...</td>\n",
       "      <td>...</td>\n",
       "      <td>...</td>\n",
       "      <td>...</td>\n",
       "      <td>...</td>\n",
       "      <td>...</td>\n",
       "      <td>...</td>\n",
       "      <td>...</td>\n",
       "      <td>...</td>\n",
       "      <td>...</td>\n",
       "      <td>...</td>\n",
       "      <td>...</td>\n",
       "      <td>...</td>\n",
       "      <td>...</td>\n",
       "      <td>...</td>\n",
       "      <td>...</td>\n",
       "    </tr>\n",
       "    <tr>\n",
       "      <th>606</th>\n",
       "      <td>0</td>\n",
       "      <td>0</td>\n",
       "      <td>0</td>\n",
       "      <td>0</td>\n",
       "      <td>0</td>\n",
       "      <td>0</td>\n",
       "      <td>0</td>\n",
       "      <td>0</td>\n",
       "      <td>0</td>\n",
       "      <td>0</td>\n",
       "      <td>...</td>\n",
       "      <td>0</td>\n",
       "      <td>0</td>\n",
       "      <td>0</td>\n",
       "      <td>0</td>\n",
       "      <td>0</td>\n",
       "      <td>0</td>\n",
       "      <td>0</td>\n",
       "      <td>0</td>\n",
       "      <td>0</td>\n",
       "      <td>0</td>\n",
       "    </tr>\n",
       "    <tr>\n",
       "      <th>607</th>\n",
       "      <td>0</td>\n",
       "      <td>0</td>\n",
       "      <td>0</td>\n",
       "      <td>0</td>\n",
       "      <td>0</td>\n",
       "      <td>0</td>\n",
       "      <td>0</td>\n",
       "      <td>0</td>\n",
       "      <td>0</td>\n",
       "      <td>0</td>\n",
       "      <td>...</td>\n",
       "      <td>0</td>\n",
       "      <td>0</td>\n",
       "      <td>0</td>\n",
       "      <td>0</td>\n",
       "      <td>0</td>\n",
       "      <td>0</td>\n",
       "      <td>0</td>\n",
       "      <td>0</td>\n",
       "      <td>0</td>\n",
       "      <td>0</td>\n",
       "    </tr>\n",
       "    <tr>\n",
       "      <th>608</th>\n",
       "      <td>0</td>\n",
       "      <td>0</td>\n",
       "      <td>0</td>\n",
       "      <td>0</td>\n",
       "      <td>0</td>\n",
       "      <td>0</td>\n",
       "      <td>0</td>\n",
       "      <td>0</td>\n",
       "      <td>0</td>\n",
       "      <td>0</td>\n",
       "      <td>...</td>\n",
       "      <td>0</td>\n",
       "      <td>0</td>\n",
       "      <td>0</td>\n",
       "      <td>0</td>\n",
       "      <td>0</td>\n",
       "      <td>1</td>\n",
       "      <td>1</td>\n",
       "      <td>0</td>\n",
       "      <td>0</td>\n",
       "      <td>0</td>\n",
       "    </tr>\n",
       "    <tr>\n",
       "      <th>609</th>\n",
       "      <td>0</td>\n",
       "      <td>0</td>\n",
       "      <td>0</td>\n",
       "      <td>0</td>\n",
       "      <td>0</td>\n",
       "      <td>0</td>\n",
       "      <td>0</td>\n",
       "      <td>0</td>\n",
       "      <td>0</td>\n",
       "      <td>0</td>\n",
       "      <td>...</td>\n",
       "      <td>0</td>\n",
       "      <td>0</td>\n",
       "      <td>0</td>\n",
       "      <td>0</td>\n",
       "      <td>0</td>\n",
       "      <td>0</td>\n",
       "      <td>0</td>\n",
       "      <td>0</td>\n",
       "      <td>0</td>\n",
       "      <td>0</td>\n",
       "    </tr>\n",
       "    <tr>\n",
       "      <th>610</th>\n",
       "      <td>1</td>\n",
       "      <td>0</td>\n",
       "      <td>0</td>\n",
       "      <td>0</td>\n",
       "      <td>0</td>\n",
       "      <td>0</td>\n",
       "      <td>0</td>\n",
       "      <td>0</td>\n",
       "      <td>1</td>\n",
       "      <td>0</td>\n",
       "      <td>...</td>\n",
       "      <td>0</td>\n",
       "      <td>1</td>\n",
       "      <td>1</td>\n",
       "      <td>0</td>\n",
       "      <td>0</td>\n",
       "      <td>0</td>\n",
       "      <td>0</td>\n",
       "      <td>0</td>\n",
       "      <td>0</td>\n",
       "      <td>0</td>\n",
       "    </tr>\n",
       "  </tbody>\n",
       "</table>\n",
       "<p>610 rows × 9731 columns</p>\n",
       "</div>"
      ],
      "text/plain": [
       "title   '71 (2014)  'Hellboy': The Seeds of Creation (2004)  \\\n",
       "userId                                                        \n",
       "1                0                                        0   \n",
       "2                0                                        0   \n",
       "3                0                                        0   \n",
       "4                0                                        0   \n",
       "5                0                                        0   \n",
       "...            ...                                      ...   \n",
       "606              0                                        0   \n",
       "607              0                                        0   \n",
       "608              0                                        0   \n",
       "609              0                                        0   \n",
       "610              1                                        0   \n",
       "\n",
       "title   'Round Midnight (1986)  'Salem's Lot (2004)  \\\n",
       "userId                                                \n",
       "1                            0                    0   \n",
       "2                            0                    0   \n",
       "3                            0                    0   \n",
       "4                            0                    0   \n",
       "5                            0                    0   \n",
       "...                        ...                  ...   \n",
       "606                          0                    0   \n",
       "607                          0                    0   \n",
       "608                          0                    0   \n",
       "609                          0                    0   \n",
       "610                          0                    0   \n",
       "\n",
       "title   'Til There Was You (1997)  'Tis the Season for Love (2015)  \\\n",
       "userId                                                               \n",
       "1                               0                                0   \n",
       "2                               0                                0   \n",
       "3                               0                                0   \n",
       "4                               0                                0   \n",
       "5                               0                                0   \n",
       "...                           ...                              ...   \n",
       "606                             0                                0   \n",
       "607                             0                                0   \n",
       "608                             0                                0   \n",
       "609                             0                                0   \n",
       "610                             0                                0   \n",
       "\n",
       "title   'burbs, The (1989)  'night Mother (1986)  (500) Days of Summer (2009)  \\\n",
       "userId                                                                          \n",
       "1                        0                     0                            0   \n",
       "2                        0                     0                            0   \n",
       "3                        0                     0                            0   \n",
       "4                        0                     0                            0   \n",
       "5                        0                     0                            0   \n",
       "...                    ...                   ...                          ...   \n",
       "606                      0                     0                            0   \n",
       "607                      0                     0                            0   \n",
       "608                      0                     0                            0   \n",
       "609                      0                     0                            0   \n",
       "610                      0                     0                            1   \n",
       "\n",
       "title   *batteries not included (1987)  ...  Zulu (2013)  [REC] (2007)  \\\n",
       "userId                                  ...                              \n",
       "1                                    0  ...            0             0   \n",
       "2                                    0  ...            0             0   \n",
       "3                                    0  ...            0             0   \n",
       "4                                    0  ...            0             0   \n",
       "5                                    0  ...            0             0   \n",
       "...                                ...  ...          ...           ...   \n",
       "606                                  0  ...            0             0   \n",
       "607                                  0  ...            0             0   \n",
       "608                                  0  ...            0             0   \n",
       "609                                  0  ...            0             0   \n",
       "610                                  0  ...            0             1   \n",
       "\n",
       "title   [REC]² (2009)  [REC]³ 3 Génesis (2012)  \\\n",
       "userId                                           \n",
       "1                   0                        0   \n",
       "2                   0                        0   \n",
       "3                   0                        0   \n",
       "4                   0                        0   \n",
       "5                   0                        0   \n",
       "...               ...                      ...   \n",
       "606                 0                        0   \n",
       "607                 0                        0   \n",
       "608                 0                        0   \n",
       "609                 0                        0   \n",
       "610                 1                        0   \n",
       "\n",
       "title   anohana: The Flower We Saw That Day - The Movie (2013)  \\\n",
       "userId                                                           \n",
       "1                                                       0        \n",
       "2                                                       0        \n",
       "3                                                       0        \n",
       "4                                                       0        \n",
       "5                                                       0        \n",
       "...                                                   ...        \n",
       "606                                                     0        \n",
       "607                                                     0        \n",
       "608                                                     0        \n",
       "609                                                     0        \n",
       "610                                                     0        \n",
       "\n",
       "title   eXistenZ (1999)  xXx (2002)  xXx: State of the Union (2005)  \\\n",
       "userId                                                                \n",
       "1                     0           0                               0   \n",
       "2                     0           0                               0   \n",
       "3                     0           0                               0   \n",
       "4                     0           0                               0   \n",
       "5                     0           0                               0   \n",
       "...                 ...         ...                             ...   \n",
       "606                   0           0                               0   \n",
       "607                   0           0                               0   \n",
       "608                   1           1                               0   \n",
       "609                   0           0                               0   \n",
       "610                   0           0                               0   \n",
       "\n",
       "title   ¡Three Amigos! (1986)  À nous la liberté (Freedom for Us) (1931)  \n",
       "userId                                                                    \n",
       "1                           1                                          0  \n",
       "2                           0                                          0  \n",
       "3                           0                                          0  \n",
       "4                           0                                          0  \n",
       "5                           0                                          0  \n",
       "...                       ...                                        ...  \n",
       "606                         0                                          0  \n",
       "607                         0                                          0  \n",
       "608                         0                                          0  \n",
       "609                         0                                          0  \n",
       "610                         0                                          0  \n",
       "\n",
       "[610 rows x 9731 columns]"
      ]
     },
     "execution_count": 61,
     "metadata": {},
     "output_type": "execute_result"
    }
   ],
   "source": [
    "prep_Data"
   ]
  },
  {
   "cell_type": "code",
   "execution_count": null,
   "id": "252cf481",
   "metadata": {},
   "outputs": [],
   "source": []
  },
  {
   "cell_type": "code",
   "execution_count": null,
   "id": "c198ee14",
   "metadata": {},
   "outputs": [],
   "source": []
  },
  {
   "cell_type": "markdown",
   "id": "b4710eeb",
   "metadata": {},
   "source": [
    "# Apply Apriori Algo"
   ]
  },
  {
   "cell_type": "markdown",
   "id": "1361035b",
   "metadata": {},
   "source": [
    "# Ques 2"
   ]
  },
  {
   "cell_type": "code",
   "execution_count": 62,
   "id": "0c4ac2a0",
   "metadata": {},
   "outputs": [],
   "source": [
    "from mlxtend.frequent_patterns import apriori, association_rules"
   ]
  },
  {
   "cell_type": "code",
   "execution_count": 63,
   "id": "45afc755",
   "metadata": {},
   "outputs": [],
   "source": [
    "frequent_Data= apriori(prep_Data , min_support=0.068, use_colnames =True,low_memory=False)\n"
   ]
  },
  {
   "cell_type": "code",
   "execution_count": 64,
   "id": "fdcd6b43",
   "metadata": {},
   "outputs": [],
   "source": [
    "recomm_rules  = association_rules(frequent_Data, metric =\"lift\", min_threshold = 1) \n",
    "recomm_rules  = recomm_rules .sort_values(['confidence', 'lift'], ascending =[False, False])"
   ]
  },
  {
   "cell_type": "code",
   "execution_count": 65,
   "id": "4b88e2ff",
   "metadata": {},
   "outputs": [
    {
     "data": {
      "text/html": [
       "<div>\n",
       "<style scoped>\n",
       "    .dataframe tbody tr th:only-of-type {\n",
       "        vertical-align: middle;\n",
       "    }\n",
       "\n",
       "    .dataframe tbody tr th {\n",
       "        vertical-align: top;\n",
       "    }\n",
       "\n",
       "    .dataframe thead th {\n",
       "        text-align: right;\n",
       "    }\n",
       "</style>\n",
       "<table border=\"1\" class=\"dataframe\">\n",
       "  <thead>\n",
       "    <tr style=\"text-align: right;\">\n",
       "      <th></th>\n",
       "      <th>antecedents</th>\n",
       "      <th>consequents</th>\n",
       "      <th>antecedent support</th>\n",
       "      <th>consequent support</th>\n",
       "      <th>support</th>\n",
       "      <th>confidence</th>\n",
       "      <th>lift</th>\n",
       "      <th>leverage</th>\n",
       "      <th>conviction</th>\n",
       "    </tr>\n",
       "  </thead>\n",
       "  <tbody>\n",
       "    <tr>\n",
       "      <th>681267</th>\n",
       "      <td>(Lord of the Rings: The Fellowship of the Ring...</td>\n",
       "      <td>(Star Wars: Episode VI - Return of the Jedi (1...</td>\n",
       "      <td>0.068852</td>\n",
       "      <td>0.129508</td>\n",
       "      <td>0.068852</td>\n",
       "      <td>1.000000</td>\n",
       "      <td>7.721519</td>\n",
       "      <td>0.059936</td>\n",
       "      <td>inf</td>\n",
       "    </tr>\n",
       "    <tr>\n",
       "      <th>681263</th>\n",
       "      <td>(Lord of the Rings: The Fellowship of the Ring...</td>\n",
       "      <td>(Star Wars: Episode VI - Return of the Jedi (1...</td>\n",
       "      <td>0.068852</td>\n",
       "      <td>0.131148</td>\n",
       "      <td>0.068852</td>\n",
       "      <td>1.000000</td>\n",
       "      <td>7.625000</td>\n",
       "      <td>0.059823</td>\n",
       "      <td>inf</td>\n",
       "    </tr>\n",
       "    <tr>\n",
       "      <th>678940</th>\n",
       "      <td>(Lord of the Rings: The Fellowship of the Ring...</td>\n",
       "      <td>(Star Wars: Episode VI - Return of the Jedi (1...</td>\n",
       "      <td>0.068852</td>\n",
       "      <td>0.137705</td>\n",
       "      <td>0.068852</td>\n",
       "      <td>1.000000</td>\n",
       "      <td>7.261905</td>\n",
       "      <td>0.059371</td>\n",
       "      <td>inf</td>\n",
       "    </tr>\n",
       "    <tr>\n",
       "      <th>679193</th>\n",
       "      <td>(Lord of the Rings: The Fellowship of the Ring...</td>\n",
       "      <td>(Star Wars: Episode VI - Return of the Jedi (1...</td>\n",
       "      <td>0.068852</td>\n",
       "      <td>0.137705</td>\n",
       "      <td>0.068852</td>\n",
       "      <td>1.000000</td>\n",
       "      <td>7.261905</td>\n",
       "      <td>0.059371</td>\n",
       "      <td>inf</td>\n",
       "    </tr>\n",
       "    <tr>\n",
       "      <th>681230</th>\n",
       "      <td>(Lord of the Rings: The Fellowship of the Ring...</td>\n",
       "      <td>(Star Wars: Episode VI - Return of the Jedi (1...</td>\n",
       "      <td>0.068852</td>\n",
       "      <td>0.137705</td>\n",
       "      <td>0.068852</td>\n",
       "      <td>1.000000</td>\n",
       "      <td>7.261905</td>\n",
       "      <td>0.059371</td>\n",
       "      <td>inf</td>\n",
       "    </tr>\n",
       "    <tr>\n",
       "      <th>...</th>\n",
       "      <td>...</td>\n",
       "      <td>...</td>\n",
       "      <td>...</td>\n",
       "      <td>...</td>\n",
       "      <td>...</td>\n",
       "      <td>...</td>\n",
       "      <td>...</td>\n",
       "      <td>...</td>\n",
       "      <td>...</td>\n",
       "    </tr>\n",
       "    <tr>\n",
       "      <th>7094</th>\n",
       "      <td>(Shawshank Redemption, The (1994))</td>\n",
       "      <td>(There's Something About Mary (1998))</td>\n",
       "      <td>0.473770</td>\n",
       "      <td>0.116393</td>\n",
       "      <td>0.068852</td>\n",
       "      <td>0.145329</td>\n",
       "      <td>1.248599</td>\n",
       "      <td>0.013709</td>\n",
       "      <td>1.033855</td>\n",
       "    </tr>\n",
       "    <tr>\n",
       "      <th>61158</th>\n",
       "      <td>(Shawshank Redemption, The (1994))</td>\n",
       "      <td>(Jurassic Park (1993), Indiana Jones and the L...</td>\n",
       "      <td>0.473770</td>\n",
       "      <td>0.116393</td>\n",
       "      <td>0.068852</td>\n",
       "      <td>0.145329</td>\n",
       "      <td>1.248599</td>\n",
       "      <td>0.013709</td>\n",
       "      <td>1.033855</td>\n",
       "    </tr>\n",
       "    <tr>\n",
       "      <th>11280</th>\n",
       "      <td>(Shawshank Redemption, The (1994))</td>\n",
       "      <td>(Star Wars: Episode V - The Empire Strikes Bac...</td>\n",
       "      <td>0.473770</td>\n",
       "      <td>0.121311</td>\n",
       "      <td>0.068852</td>\n",
       "      <td>0.145329</td>\n",
       "      <td>1.197980</td>\n",
       "      <td>0.011379</td>\n",
       "      <td>1.028101</td>\n",
       "    </tr>\n",
       "    <tr>\n",
       "      <th>244917</th>\n",
       "      <td>(Shawshank Redemption, The (1994))</td>\n",
       "      <td>(Star Wars: Episode V - The Empire Strikes Bac...</td>\n",
       "      <td>0.473770</td>\n",
       "      <td>0.121311</td>\n",
       "      <td>0.068852</td>\n",
       "      <td>0.145329</td>\n",
       "      <td>1.197980</td>\n",
       "      <td>0.011379</td>\n",
       "      <td>1.028101</td>\n",
       "    </tr>\n",
       "    <tr>\n",
       "      <th>6590</th>\n",
       "      <td>(Shawshank Redemption, The (1994))</td>\n",
       "      <td>(Pretty Woman (1990))</td>\n",
       "      <td>0.473770</td>\n",
       "      <td>0.122951</td>\n",
       "      <td>0.068852</td>\n",
       "      <td>0.145329</td>\n",
       "      <td>1.182007</td>\n",
       "      <td>0.010602</td>\n",
       "      <td>1.026183</td>\n",
       "    </tr>\n",
       "  </tbody>\n",
       "</table>\n",
       "<p>681724 rows × 9 columns</p>\n",
       "</div>"
      ],
      "text/plain": [
       "                                              antecedents  \\\n",
       "681267  (Lord of the Rings: The Fellowship of the Ring...   \n",
       "681263  (Lord of the Rings: The Fellowship of the Ring...   \n",
       "678940  (Lord of the Rings: The Fellowship of the Ring...   \n",
       "679193  (Lord of the Rings: The Fellowship of the Ring...   \n",
       "681230  (Lord of the Rings: The Fellowship of the Ring...   \n",
       "...                                                   ...   \n",
       "7094                   (Shawshank Redemption, The (1994))   \n",
       "61158                  (Shawshank Redemption, The (1994))   \n",
       "11280                  (Shawshank Redemption, The (1994))   \n",
       "244917                 (Shawshank Redemption, The (1994))   \n",
       "6590                   (Shawshank Redemption, The (1994))   \n",
       "\n",
       "                                              consequents  antecedent support  \\\n",
       "681267  (Star Wars: Episode VI - Return of the Jedi (1...            0.068852   \n",
       "681263  (Star Wars: Episode VI - Return of the Jedi (1...            0.068852   \n",
       "678940  (Star Wars: Episode VI - Return of the Jedi (1...            0.068852   \n",
       "679193  (Star Wars: Episode VI - Return of the Jedi (1...            0.068852   \n",
       "681230  (Star Wars: Episode VI - Return of the Jedi (1...            0.068852   \n",
       "...                                                   ...                 ...   \n",
       "7094                (There's Something About Mary (1998))            0.473770   \n",
       "61158   (Jurassic Park (1993), Indiana Jones and the L...            0.473770   \n",
       "11280   (Star Wars: Episode V - The Empire Strikes Bac...            0.473770   \n",
       "244917  (Star Wars: Episode V - The Empire Strikes Bac...            0.473770   \n",
       "6590                                (Pretty Woman (1990))            0.473770   \n",
       "\n",
       "        consequent support   support  confidence      lift  leverage  \\\n",
       "681267            0.129508  0.068852    1.000000  7.721519  0.059936   \n",
       "681263            0.131148  0.068852    1.000000  7.625000  0.059823   \n",
       "678940            0.137705  0.068852    1.000000  7.261905  0.059371   \n",
       "679193            0.137705  0.068852    1.000000  7.261905  0.059371   \n",
       "681230            0.137705  0.068852    1.000000  7.261905  0.059371   \n",
       "...                    ...       ...         ...       ...       ...   \n",
       "7094              0.116393  0.068852    0.145329  1.248599  0.013709   \n",
       "61158             0.116393  0.068852    0.145329  1.248599  0.013709   \n",
       "11280             0.121311  0.068852    0.145329  1.197980  0.011379   \n",
       "244917            0.121311  0.068852    0.145329  1.197980  0.011379   \n",
       "6590              0.122951  0.068852    0.145329  1.182007  0.010602   \n",
       "\n",
       "        conviction  \n",
       "681267         inf  \n",
       "681263         inf  \n",
       "678940         inf  \n",
       "679193         inf  \n",
       "681230         inf  \n",
       "...            ...  \n",
       "7094      1.033855  \n",
       "61158     1.033855  \n",
       "11280     1.028101  \n",
       "244917    1.028101  \n",
       "6590      1.026183  \n",
       "\n",
       "[681724 rows x 9 columns]"
      ]
     },
     "execution_count": 65,
     "metadata": {},
     "output_type": "execute_result"
    }
   ],
   "source": [
    "recomm_rules"
   ]
  },
  {
   "cell_type": "code",
   "execution_count": 66,
   "id": "f8f474b8",
   "metadata": {},
   "outputs": [
    {
     "data": {
      "text/html": [
       "<div>\n",
       "<style scoped>\n",
       "    .dataframe tbody tr th:only-of-type {\n",
       "        vertical-align: middle;\n",
       "    }\n",
       "\n",
       "    .dataframe tbody tr th {\n",
       "        vertical-align: top;\n",
       "    }\n",
       "\n",
       "    .dataframe thead th {\n",
       "        text-align: right;\n",
       "    }\n",
       "</style>\n",
       "<table border=\"1\" class=\"dataframe\">\n",
       "  <thead>\n",
       "    <tr style=\"text-align: right;\">\n",
       "      <th></th>\n",
       "      <th>support</th>\n",
       "      <th>itemsets</th>\n",
       "    </tr>\n",
       "  </thead>\n",
       "  <tbody>\n",
       "    <tr>\n",
       "      <th>0</th>\n",
       "      <td>0.083607</td>\n",
       "      <td>(12 Angry Men (1957))</td>\n",
       "    </tr>\n",
       "    <tr>\n",
       "      <th>1</th>\n",
       "      <td>0.137705</td>\n",
       "      <td>(2001: A Space Odyssey (1968))</td>\n",
       "    </tr>\n",
       "    <tr>\n",
       "      <th>2</th>\n",
       "      <td>0.081967</td>\n",
       "      <td>(28 Days Later (2002))</td>\n",
       "    </tr>\n",
       "    <tr>\n",
       "      <th>3</th>\n",
       "      <td>0.100000</td>\n",
       "      <td>(300 (2007))</td>\n",
       "    </tr>\n",
       "    <tr>\n",
       "      <th>4</th>\n",
       "      <td>0.080328</td>\n",
       "      <td>(40-Year-Old Virgin, The (2005))</td>\n",
       "    </tr>\n",
       "    <tr>\n",
       "      <th>...</th>\n",
       "      <td>...</td>\n",
       "      <td>...</td>\n",
       "    </tr>\n",
       "    <tr>\n",
       "      <th>41522</th>\n",
       "      <td>0.068852</td>\n",
       "      <td>(Lord of the Rings: The Fellowship of the Ring...</td>\n",
       "    </tr>\n",
       "    <tr>\n",
       "      <th>41523</th>\n",
       "      <td>0.070492</td>\n",
       "      <td>(Raiders of the Lost Ark (Indiana Jones and th...</td>\n",
       "    </tr>\n",
       "    <tr>\n",
       "      <th>41524</th>\n",
       "      <td>0.068852</td>\n",
       "      <td>(Lord of the Rings: The Fellowship of the Ring...</td>\n",
       "    </tr>\n",
       "    <tr>\n",
       "      <th>41525</th>\n",
       "      <td>0.073770</td>\n",
       "      <td>(Lord of the Rings: The Fellowship of the Ring...</td>\n",
       "    </tr>\n",
       "    <tr>\n",
       "      <th>41526</th>\n",
       "      <td>0.068852</td>\n",
       "      <td>(Lord of the Rings: The Fellowship of the Ring...</td>\n",
       "    </tr>\n",
       "  </tbody>\n",
       "</table>\n",
       "<p>41527 rows × 2 columns</p>\n",
       "</div>"
      ],
      "text/plain": [
       "        support                                           itemsets\n",
       "0      0.083607                              (12 Angry Men (1957))\n",
       "1      0.137705                     (2001: A Space Odyssey (1968))\n",
       "2      0.081967                             (28 Days Later (2002))\n",
       "3      0.100000                                       (300 (2007))\n",
       "4      0.080328                   (40-Year-Old Virgin, The (2005))\n",
       "...         ...                                                ...\n",
       "41522  0.068852  (Lord of the Rings: The Fellowship of the Ring...\n",
       "41523  0.070492  (Raiders of the Lost Ark (Indiana Jones and th...\n",
       "41524  0.068852  (Lord of the Rings: The Fellowship of the Ring...\n",
       "41525  0.073770  (Lord of the Rings: The Fellowship of the Ring...\n",
       "41526  0.068852  (Lord of the Rings: The Fellowship of the Ring...\n",
       "\n",
       "[41527 rows x 2 columns]"
      ]
     },
     "execution_count": 66,
     "metadata": {},
     "output_type": "execute_result"
    }
   ],
   "source": [
    "frequent_Data"
   ]
  },
  {
   "cell_type": "code",
   "execution_count": 67,
   "id": "acd3d026",
   "metadata": {},
   "outputs": [
    {
     "data": {
      "text/plain": [
       "frozenset({'12 Angry Men (1957)'})"
      ]
     },
     "execution_count": 67,
     "metadata": {},
     "output_type": "execute_result"
    }
   ],
   "source": [
    "frequent_Data.iloc[0][1]"
   ]
  },
  {
   "cell_type": "markdown",
   "id": "3db01a72",
   "metadata": {},
   "source": [
    "### Movie Input here"
   ]
  },
  {
   "cell_type": "code",
   "execution_count": 68,
   "id": "ced9cd88",
   "metadata": {},
   "outputs": [],
   "source": [
    "##first input for no of rows of movie combinations that need to be taken"
   ]
  },
  {
   "cell_type": "code",
   "execution_count": 69,
   "id": "535b9dd6",
   "metadata": {},
   "outputs": [
    {
     "name": "stdout",
     "output_type": "stream",
     "text": [
      "3\n"
     ]
    }
   ],
   "source": [
    "n=input()\n",
    "n=int(n)"
   ]
  },
  {
   "cell_type": "code",
   "execution_count": 70,
   "id": "32e420d9",
   "metadata": {},
   "outputs": [],
   "source": [
    "result_output=pd.DataFrame()"
   ]
  },
  {
   "cell_type": "code",
   "execution_count": 71,
   "id": "5093b071",
   "metadata": {},
   "outputs": [],
   "source": [
    "## take input of movies for each n(we can assume n represent total user )\n",
    "def movieinput():\n",
    "    movie=input()\n",
    "    movie=movie.replace(\", The\",\" The\")\n",
    "    movie=movie.split(\",\")\n",
    "    movie = [sub.replace(\" The\",\", The\") for sub in movie]\n",
    "    movie = [sub.replace(\":,\",\":\") for sub in movie]\n",
    "    return movie"
   ]
  },
  {
   "cell_type": "code",
   "execution_count": 72,
   "id": "6ccad540",
   "metadata": {},
   "outputs": [],
   "source": [
    "## passing the movie name in input to this function as parameter, filtering the rules with antecedents as movie we have passed and getting \n",
    "## the list of movies in consequenets sorted by confidence . This is done to get the best related movie at the top.\n",
    "def getListOfMovies(movie):    \n",
    "    Combined_rule=pd.DataFrame()\n",
    "    for element in movie:\n",
    "        df_movie=recomm_rules[recomm_rules['antecedents'].apply(lambda x: len(x)== 1 and next(iter(x))==element)]\n",
    "        #print(element)\n",
    "        df_movie = df_movie[df_movie['lift']>2]\n",
    "        Combined_rule=Combined_rule.append(df_movie)\n",
    "    Combined_rule = Combined_rule.sort_values(['confidence', 'lift'], ascending =[False, False])\n",
    "    list_of_movies= Combined_rule['consequents'].values\n",
    "    return list_of_movies"
   ]
  },
  {
   "cell_type": "code",
   "execution_count": 73,
   "id": "40830290",
   "metadata": {},
   "outputs": [],
   "source": [
    "## passing the above list of consequents movies we got as parameter here and the input movie too, we have used the firt loop\n",
    "## to get movies from consequents and 2nd loop to get movies from each consequents as consequents can have multiple movies.\n",
    "## using if condition to not repeat any movies / not repeat movies that we have taken as input as well\n",
    "def getresultmovie(list_of_movies,movie):\n",
    "    result_movies= []\n",
    "    for element in list_of_movies:\n",
    "        for element2 in element:\n",
    "            if element2 not in result_movies:\n",
    "                if element2 not in movie:\n",
    "                    result_movies.append(element2)\n",
    "                    \n",
    "    return result_movies[0:4]\n",
    "            "
   ]
  },
  {
   "cell_type": "code",
   "execution_count": 74,
   "id": "f73fba35",
   "metadata": {},
   "outputs": [],
   "source": [
    "## simply printing the output as required and mentioned in the sample data given\n",
    "def getoutput(movie,result_movie,result_output):\n",
    "    result_lhs = '\\n'.join([movie[0]] + [item for item in movie[1:]])\n",
    "    result_rhs = '\\n'.join([result_movie[0]] + [item for item in result_movie[1:]])\n",
    "    result_temp = {'movies': result_lhs, 'recommendation': result_rhs}\n",
    "    result_output = result_output.append(result_temp, ignore_index = True)\n",
    "    return result_output\n",
    "    "
   ]
  },
  {
   "cell_type": "code",
   "execution_count": 75,
   "id": "447d10dc",
   "metadata": {
    "scrolled": true
   },
   "outputs": [
    {
     "name": "stdout",
     "output_type": "stream",
     "text": [
      "Batman Begins (2005),Dark Knight Rises, The (2012)\n",
      "Titanic (1997)\n",
      "Shrek (2001),Incredibles, The(2004),Toy Story 3 (2010)\n"
     ]
    }
   ],
   "source": [
    "##calling all the above function one by one for each user and appending the result in out dataframe result_output\n",
    "\n",
    "\n",
    "for i in range(0,n):\n",
    "    movie=movieinput()\n",
    "    list_of_movies=getListOfMovies(movie)\n",
    "    result_movies=getresultmovie(list_of_movies,movie)\n",
    "    result_output=getoutput(movie,result_movies,result_output)\n"
   ]
  },
  {
   "cell_type": "code",
   "execution_count": 76,
   "id": "358b821a",
   "metadata": {},
   "outputs": [
    {
     "data": {
      "text/html": [
       "<div>\n",
       "<style scoped>\n",
       "    .dataframe tbody tr th:only-of-type {\n",
       "        vertical-align: middle;\n",
       "    }\n",
       "\n",
       "    .dataframe tbody tr th {\n",
       "        vertical-align: top;\n",
       "    }\n",
       "\n",
       "    .dataframe thead th {\n",
       "        text-align: right;\n",
       "    }\n",
       "</style>\n",
       "<table border=\"1\" class=\"dataframe\">\n",
       "  <thead>\n",
       "    <tr style=\"text-align: right;\">\n",
       "      <th></th>\n",
       "      <th>movies</th>\n",
       "      <th>recommendation</th>\n",
       "    </tr>\n",
       "  </thead>\n",
       "  <tbody>\n",
       "    <tr>\n",
       "      <th>0</th>\n",
       "      <td>Batman Begins (2005)\\nDark Knight Rises, The (...</td>\n",
       "      <td>Dark Knight, The (2008)\\nInception (2010)\\nLor...</td>\n",
       "    </tr>\n",
       "    <tr>\n",
       "      <th>1</th>\n",
       "      <td>Titanic (1997)</td>\n",
       "      <td>Saving Private Ryan (1998)\\nShrek (2001)\\nSixt...</td>\n",
       "    </tr>\n",
       "    <tr>\n",
       "      <th>2</th>\n",
       "      <td>Shrek (2001)\\nIncredibles, The(2004)\\nToy Stor...</td>\n",
       "      <td>Finding Nemo (2003)\\nLord of the Rings: The Fe...</td>\n",
       "    </tr>\n",
       "  </tbody>\n",
       "</table>\n",
       "</div>"
      ],
      "text/plain": [
       "                                              movies  \\\n",
       "0  Batman Begins (2005)\\nDark Knight Rises, The (...   \n",
       "1                                     Titanic (1997)   \n",
       "2  Shrek (2001)\\nIncredibles, The(2004)\\nToy Stor...   \n",
       "\n",
       "                                      recommendation  \n",
       "0  Dark Knight, The (2008)\\nInception (2010)\\nLor...  \n",
       "1  Saving Private Ryan (1998)\\nShrek (2001)\\nSixt...  \n",
       "2  Finding Nemo (2003)\\nLord of the Rings: The Fe...  "
      ]
     },
     "execution_count": 76,
     "metadata": {},
     "output_type": "execute_result"
    }
   ],
   "source": [
    "result_output.head()"
   ]
  },
  {
   "cell_type": "markdown",
   "id": "4b97ecee",
   "metadata": {},
   "source": [
    "# Ques 2 Output"
   ]
  },
  {
   "cell_type": "code",
   "execution_count": 105,
   "id": "7273f2a1",
   "metadata": {},
   "outputs": [
    {
     "name": "stdout",
     "output_type": "stream",
     "text": [
      "\n",
      "User 1 input is : \n",
      "Batman Begins (2005)\n",
      "Dark Knight Rises, The (2012)\n",
      "\n",
      "User 1  recommended movies are : \n",
      "Dark Knight, The (2008)\n",
      "Inception (2010)\n",
      "Lord of the Rings: The Return of the King, The (2003)\n",
      "Fight Club (1999)\n",
      "\n",
      "User 2 input is : \n",
      "Titanic (1997)\n",
      "\n",
      "User 2  recommended movies are : \n",
      "Saving Private Ryan (1998)\n",
      "Shrek (2001)\n",
      "Sixth Sense, The (1999)\n",
      "Back to the Future (1985)\n",
      "\n",
      "User 3 input is : \n",
      "Shrek (2001)\n",
      "Incredibles, The(2004)\n",
      "Toy Story 3 (2010)\n",
      "\n",
      "User 3  recommended movies are : \n",
      "Finding Nemo (2003)\n",
      "Lord of the Rings: The Fellowship of the Ring, The (2001)\n",
      "Lord of the Rings: The Return of the King, The (2003)\n",
      "Lord of the Rings: The Two Towers, The (2002)\n"
     ]
    }
   ],
   "source": [
    "# printing the user input and  4 recommended movies for that user\n",
    "rec_Movies = [] \n",
    "for idx in range(result_output.shape[0]):\n",
    "    print('',end = '\\n')\n",
    "    print(\"User\", idx +1, \"input is : \")\n",
    "    print(result_output.iloc[idx][0])\n",
    "    print('',end = '\\n')\n",
    "    print(\"User\", idx+1 ,\" recommended movies are : \")\n",
    "    print(result_output.iloc[idx][1])\n",
    "    rec_Movies.append(result_output.iloc[idx][1])\n",
    "    "
   ]
  },
  {
   "cell_type": "code",
   "execution_count": null,
   "id": "cdd88ed9",
   "metadata": {},
   "outputs": [],
   "source": [
    "for idx in range(result_output.shape[0]):\n",
    "    print('',end = '\\n')\n",
    "    print(\"User\", idx +1, \"input is : \")\n",
    "    print(result_output.iloc[idx][0])\n",
    "    print('',end = '\\n')\n",
    "    print(\"User\", idx+1 ,\" recommended movies are : \")\n",
    "    print(result_output.iloc[idx][1])\n",
    "    rec_Movies.append(result_output.iloc[idx][1])"
   ]
  },
  {
   "cell_type": "code",
   "execution_count": 108,
   "id": "e832514c",
   "metadata": {},
   "outputs": [
    {
     "name": "stdout",
     "output_type": "stream",
     "text": [
      "Finding Nemo (2003)\n",
      "Lord of the Rings: The Fellowship of the Ring, The (2001)\n",
      "Lord of the Rings: The Return of the King, The (2003)\n",
      "Lord of the Rings: The Two Towers, The (2002)\n",
      "['Finding Nemo (2003)', 'Lord of the Rings: The Fellowship of the Ring, The (2001)', 'Lord of the Rings: The Return of the King, The (2003)', 'Lord of the Rings: The Two Towers, The (2002)']\n"
     ]
    }
   ],
   "source": [
    "temp=result_output.iloc[idx][1]\n",
    "type(temp)\n",
    "print(temp)\n",
    "temp = temp.split(\"\\n\")\n",
    "print(temp)"
   ]
  },
  {
   "cell_type": "code",
   "execution_count": 109,
   "id": "bbe4f004",
   "metadata": {},
   "outputs": [],
   "source": [
    "csv_Dataframe=result_output.copy()"
   ]
  },
  {
   "cell_type": "code",
   "execution_count": 110,
   "id": "abbda1f1",
   "metadata": {},
   "outputs": [],
   "source": [
    "for idx in range(csv_Dataframe.shape[0]):\n",
    "    csv_Dataframe.iloc[idx][0] = csv_Dataframe.iloc[idx][0].split(\"\\n\")\n",
    "    csv_Dataframe.iloc[idx][1] = csv_Dataframe.iloc[idx][1].split(\"\\n\")"
   ]
  },
  {
   "cell_type": "markdown",
   "id": "5f30ffe3",
   "metadata": {},
   "source": [
    "# Saving the results in a Final.csv file"
   ]
  },
  {
   "cell_type": "code",
   "execution_count": 113,
   "id": "be9bee45",
   "metadata": {},
   "outputs": [],
   "source": [
    "csv_Dataframe.to_csv(\"Final.csv\",index=False)"
   ]
  },
  {
   "cell_type": "markdown",
   "id": "cf115323",
   "metadata": {},
   "source": [
    "# Ques 3"
   ]
  },
  {
   "cell_type": "code",
   "execution_count": 116,
   "id": "0ace4b6f",
   "metadata": {},
   "outputs": [],
   "source": [
    "from mlxtend.preprocessing import TransactionEncoder\n",
    "import time\n",
    "from mlxtend.frequent_patterns import fpgrowth"
   ]
  },
  {
   "cell_type": "code",
   "execution_count": 117,
   "id": "12200736",
   "metadata": {},
   "outputs": [
    {
     "name": "stdout",
     "output_type": "stream",
     "text": [
      "        userId                                      title  rating\n",
      "0            1                           Toy Story (1995)     4.0\n",
      "1            5                           Toy Story (1995)     4.0\n",
      "2            7                           Toy Story (1995)     4.5\n",
      "3           15                           Toy Story (1995)     2.5\n",
      "4           17                           Toy Story (1995)     4.5\n",
      "...        ...                                        ...     ...\n",
      "104514     184  Black Butler: Book of the Atlantic (2017)     4.0\n",
      "104515     184               No Game No Life: Zero (2017)     3.5\n",
      "104516     184                               Flint (2017)     3.5\n",
      "104517     184        Bungo Stray Dogs: Dead Apple (2018)     3.5\n",
      "104518     331        Andrew Dice Clay: Dice Rules (1991)     4.0\n",
      "\n",
      "[100959 rows x 3 columns]\n"
     ]
    }
   ],
   "source": [
    "print(copy_data_Q3)"
   ]
  },
  {
   "cell_type": "code",
   "execution_count": 118,
   "id": "c6d54f2e",
   "metadata": {},
   "outputs": [],
   "source": [
    "all_Id = copy_data_Q3[\"userId\"].unique()\n",
    "#all_Id = all_Id.sort()\n",
    "arr = np.array(all_Id)\n",
    "#print(np.sort(arr))"
   ]
  },
  {
   "cell_type": "code",
   "execution_count": 119,
   "id": "90576e8a",
   "metadata": {},
   "outputs": [
    {
     "name": "stdout",
     "output_type": "stream",
     "text": [
      "['Toy Story (1995)' 'Heat (1995)' 'Casino (1995)' ... 'Get Out (2017)'\n",
      " 'Logan (2017)' 'The Fate of the Furious (2017)']\n"
     ]
    },
    {
     "data": {
      "text/plain": [
       "numpy.ndarray"
      ]
     },
     "execution_count": 119,
     "metadata": {},
     "output_type": "execute_result"
    }
   ],
   "source": [
    "#movieIdToName[mid] = movies[movies[\"movieId\"] == mid][\"title\"].values[0]\n",
    "one_movies=copy_data_Q3[copy_data_Q3[\"userId\"] ==610][\"title\"].values\n",
    "print(one_movies)\n",
    "type(one_movies)"
   ]
  },
  {
   "cell_type": "code",
   "execution_count": 120,
   "id": "188924f8",
   "metadata": {},
   "outputs": [
    {
     "name": "stdout",
     "output_type": "stream",
     "text": [
      "Andrew Dice Clay: Dice Rules (1991)\n"
     ]
    }
   ],
   "source": [
    "if copy_data_Q3.iloc[0][0] == 1:\n",
    "    print(copy_data_Q3.iloc[100958][1])"
   ]
  },
  {
   "cell_type": "markdown",
   "id": "e7bce007",
   "metadata": {},
   "source": [
    "# Question 3 : Visualize the maximal frequent pattern set"
   ]
  },
  {
   "cell_type": "code",
   "execution_count": 123,
   "id": "a87f5e13",
   "metadata": {},
   "outputs": [],
   "source": [
    "frequent_Itemset = fpgrowth(prep_Data, min_support=0.068, use_colnames=True)"
   ]
  },
  {
   "cell_type": "code",
   "execution_count": 124,
   "id": "d2b521d3",
   "metadata": {},
   "outputs": [
    {
     "data": {
      "text/html": [
       "<div>\n",
       "<style scoped>\n",
       "    .dataframe tbody tr th:only-of-type {\n",
       "        vertical-align: middle;\n",
       "    }\n",
       "\n",
       "    .dataframe tbody tr th {\n",
       "        vertical-align: top;\n",
       "    }\n",
       "\n",
       "    .dataframe thead th {\n",
       "        text-align: right;\n",
       "    }\n",
       "</style>\n",
       "<table border=\"1\" class=\"dataframe\">\n",
       "  <thead>\n",
       "    <tr style=\"text-align: right;\">\n",
       "      <th></th>\n",
       "      <th>support</th>\n",
       "      <th>itemsets</th>\n",
       "    </tr>\n",
       "  </thead>\n",
       "  <tbody>\n",
       "    <tr>\n",
       "      <th>0</th>\n",
       "      <td>0.452459</td>\n",
       "      <td>(Forrest Gump (1994))</td>\n",
       "    </tr>\n",
       "    <tr>\n",
       "      <th>1</th>\n",
       "      <td>0.393443</td>\n",
       "      <td>(Matrix, The (1999))</td>\n",
       "    </tr>\n",
       "    <tr>\n",
       "      <th>2</th>\n",
       "      <td>0.391803</td>\n",
       "      <td>(Silence of the Lambs, The (1991))</td>\n",
       "    </tr>\n",
       "    <tr>\n",
       "      <th>3</th>\n",
       "      <td>0.360656</td>\n",
       "      <td>(Star Wars: Episode IV - A New Hope (1977))</td>\n",
       "    </tr>\n",
       "    <tr>\n",
       "      <th>4</th>\n",
       "      <td>0.321311</td>\n",
       "      <td>(Fight Club (1999))</td>\n",
       "    </tr>\n",
       "    <tr>\n",
       "      <th>...</th>\n",
       "      <td>...</td>\n",
       "      <td>...</td>\n",
       "    </tr>\n",
       "    <tr>\n",
       "      <th>41522</th>\n",
       "      <td>0.073770</td>\n",
       "      <td>(Shaun of the Dead (2004), Lord of the Rings: ...</td>\n",
       "    </tr>\n",
       "    <tr>\n",
       "      <th>41523</th>\n",
       "      <td>0.073770</td>\n",
       "      <td>(Shaun of the Dead (2004), Lord of the Rings: ...</td>\n",
       "    </tr>\n",
       "    <tr>\n",
       "      <th>41524</th>\n",
       "      <td>0.073770</td>\n",
       "      <td>(Shaun of the Dead (2004), Lord of the Rings: ...</td>\n",
       "    </tr>\n",
       "    <tr>\n",
       "      <th>41525</th>\n",
       "      <td>0.073770</td>\n",
       "      <td>(Hot Fuzz (2007), Fight Club (1999))</td>\n",
       "    </tr>\n",
       "    <tr>\n",
       "      <th>41526</th>\n",
       "      <td>0.070492</td>\n",
       "      <td>(Hot Fuzz (2007), Matrix, The (1999))</td>\n",
       "    </tr>\n",
       "  </tbody>\n",
       "</table>\n",
       "<p>41527 rows × 2 columns</p>\n",
       "</div>"
      ],
      "text/plain": [
       "        support                                           itemsets\n",
       "0      0.452459                              (Forrest Gump (1994))\n",
       "1      0.393443                               (Matrix, The (1999))\n",
       "2      0.391803                 (Silence of the Lambs, The (1991))\n",
       "3      0.360656        (Star Wars: Episode IV - A New Hope (1977))\n",
       "4      0.321311                                (Fight Club (1999))\n",
       "...         ...                                                ...\n",
       "41522  0.073770  (Shaun of the Dead (2004), Lord of the Rings: ...\n",
       "41523  0.073770  (Shaun of the Dead (2004), Lord of the Rings: ...\n",
       "41524  0.073770  (Shaun of the Dead (2004), Lord of the Rings: ...\n",
       "41525  0.073770               (Hot Fuzz (2007), Fight Club (1999))\n",
       "41526  0.070492              (Hot Fuzz (2007), Matrix, The (1999))\n",
       "\n",
       "[41527 rows x 2 columns]"
      ]
     },
     "execution_count": 124,
     "metadata": {},
     "output_type": "execute_result"
    }
   ],
   "source": [
    "frequent_Itemset"
   ]
  },
  {
   "cell_type": "code",
   "execution_count": 125,
   "id": "de50a368",
   "metadata": {},
   "outputs": [],
   "source": [
    "#finding freuent itemset "
   ]
  },
  {
   "cell_type": "code",
   "execution_count": 126,
   "id": "e5d05bec",
   "metadata": {},
   "outputs": [],
   "source": [
    "#storing the support in the descending order\n",
    "my_Sup = frequent_Itemset.support.unique()"
   ]
  },
  {
   "cell_type": "code",
   "execution_count": 127,
   "id": "3a8bb856",
   "metadata": {},
   "outputs": [],
   "source": [
    "#dictionary for storing itemset with  support count <= key"
   ]
  },
  {
   "cell_type": "code",
   "execution_count": 128,
   "id": "2e90e92b",
   "metadata": {},
   "outputs": [],
   "source": [
    "small_or_Equal= {}\n",
    "for idx in range(len(my_Sup)):\n",
    "    temp = list(frequent_Itemset.loc[frequent_Itemset.support<=my_Sup[idx]]['itemsets'])\n",
    "    small_or_Equal[my_Sup[idx]] = temp"
   ]
  },
  {
   "cell_type": "code",
   "execution_count": 129,
   "id": "3f82c593",
   "metadata": {},
   "outputs": [],
   "source": [
    "max_Freq_Set = [] #initializing the maximal frequent itemset"
   ]
  },
  {
   "cell_type": "markdown",
   "id": "ac73be44",
   "metadata": {},
   "source": [
    "# for loop for making the maximal frequent set\n",
    "# Want to see N maximal frequent set let us print 20 maximal frequent set"
   ]
  },
  {
   "cell_type": "code",
   "execution_count": 130,
   "id": "ea557f11",
   "metadata": {},
   "outputs": [],
   "source": [
    "N = 35\n",
    "stopper = N+1"
   ]
  },
  {
   "cell_type": "code",
   "execution_count": 131,
   "id": "56ed2e4d",
   "metadata": {},
   "outputs": [],
   "source": [
    "for idx, curr_row in frequent_Itemset.iterrows():\n",
    "    if len(max_Freq_Set) >=stopper :\n",
    "        break\n",
    "        \n",
    "    #boolean flag for logic breaking \n",
    "    my_Flag = True\n",
    "    curr_Sup = curr_row['support']\n",
    "    curr_Checkset = small_or_Equal[curr_Sup]\n",
    "    curr_Item = curr_row['itemsets']\n",
    "    for item in curr_Checkset:\n",
    "        if (item != curr_Item):\n",
    "            if(frozenset.issubset(curr_Item,item)):\n",
    "                my_Flag = False\n",
    "                break\n",
    "    \n",
    "    if(my_Flag):\n",
    "        max_Freq_Set.append(curr_Item)\n",
    "        \n",
    "            \n",
    "    \n",
    "    "
   ]
  },
  {
   "cell_type": "markdown",
   "id": "52690402",
   "metadata": {},
   "source": [
    "# N maximal frequent set are as follows :"
   ]
  },
  {
   "cell_type": "code",
   "execution_count": 132,
   "id": "168c9dd0",
   "metadata": {},
   "outputs": [
    {
     "name": "stdout",
     "output_type": "stream",
     "text": [
      "N maximal frequent set :\n"
     ]
    },
    {
     "data": {
      "text/plain": [
       "[frozenset({'Dumb & Dumber (Dumb and Dumber) (1994)'}),\n",
       " frozenset({'Blazing Saddles (1974)'}),\n",
       " frozenset({'Tombstone (1993)'}),\n",
       " frozenset({'Ed Wood (1994)'}),\n",
       " frozenset({'Back to the Future Part III (1990)'}),\n",
       " frozenset({'Few Good Men, A (1992)'}),\n",
       " frozenset({'This Is Spinal Tap (1984)'}),\n",
       " frozenset({'North by Northwest (1959)'}),\n",
       " frozenset({\"Bridget Jones's Diary (2001)\"}),\n",
       " frozenset({'Erin Brockovich (2000)'}),\n",
       " frozenset({'Full Monty, The (1997)'}),\n",
       " frozenset({'Dead Man Walking (1995)'}),\n",
       " frozenset({'Snow White and the Seven Dwarfs (1937)'}),\n",
       " frozenset({'In the Line of Fire (1993)'}),\n",
       " frozenset({'Twister (1996)'}),\n",
       " frozenset({'Happy Gilmore (1996)'}),\n",
       " frozenset({'Firm, The (1993)'}),\n",
       " frozenset({'While You Were Sleeping (1995)'}),\n",
       " frozenset({'Outbreak (1995)'}),\n",
       " frozenset({'Star Trek: Generations (1994)'}),\n",
       " frozenset({'Birdcage, The (1996)'}),\n",
       " frozenset({'Sense and Sensibility (1995)'}),\n",
       " frozenset({\"Mr. Holland's Opus (1995)\"}),\n",
       " frozenset({'American President, The (1995)'}),\n",
       " frozenset({'Dave (1993)'}),\n",
       " frozenset({'Philadelphia (1993)'}),\n",
       " frozenset({'Contact (1997)'}),\n",
       " frozenset({'Top Gun (1986)'}),\n",
       " frozenset({'Seven Samurai (Shichinin no samurai) (1954)'}),\n",
       " frozenset({'Interview with the Vampire: The Vampire Chronicles (1994)'}),\n",
       " frozenset({\"King's Speech, The (2010)\"}),\n",
       " frozenset({'Juno (2007)'}),\n",
       " frozenset({'Love Actually (2003)'}),\n",
       " frozenset({'Clueless (1995)'}),\n",
       " frozenset({'Patriot, The (2000)'}),\n",
       " frozenset({'Leaving Las Vegas (1995)'})]"
      ]
     },
     "execution_count": 132,
     "metadata": {},
     "output_type": "execute_result"
    }
   ],
   "source": [
    "print(\"N maximal frequent set :\")\n",
    "max_Freq_Set"
   ]
  },
  {
   "cell_type": "code",
   "execution_count": 133,
   "id": "de567c65",
   "metadata": {},
   "outputs": [],
   "source": [
    "max_Freq_Set_2 =max_Freq_Set.copy() "
   ]
  },
  {
   "cell_type": "markdown",
   "id": "0852663b",
   "metadata": {},
   "source": [
    "# Visualization"
   ]
  },
  {
   "cell_type": "code",
   "execution_count": 134,
   "id": "6fb7e5e1",
   "metadata": {},
   "outputs": [],
   "source": [
    "length = []\n",
    "for idx in range(len(max_Freq_Set_2)):\n",
    "    length.append(len(max_Freq_Set_2[idx])*5)"
   ]
  },
  {
   "cell_type": "code",
   "execution_count": 135,
   "id": "049efb54",
   "metadata": {},
   "outputs": [],
   "source": [
    "X_data = []\n",
    "for x in max_Freq_Set_2:\n",
    "    X_data.append(list(x))"
   ]
  },
  {
   "cell_type": "code",
   "execution_count": 136,
   "id": "ff929981",
   "metadata": {},
   "outputs": [
    {
     "data": {
      "text/plain": [
       "36"
      ]
     },
     "execution_count": 136,
     "metadata": {},
     "output_type": "execute_result"
    }
   ],
   "source": [
    "X_data = np.array(X_data)\n",
    "X_data.shape[0]"
   ]
  },
  {
   "cell_type": "code",
   "execution_count": 137,
   "id": "08496466",
   "metadata": {},
   "outputs": [],
   "source": [
    "#converting into the string\n",
    "f_Data = [] \n",
    "for idx in range(X_data.shape[0]):\n",
    "    f_Data.append(str(X_data[idx]))"
   ]
  },
  {
   "cell_type": "code",
   "execution_count": 138,
   "id": "55e3d672",
   "metadata": {},
   "outputs": [
    {
     "name": "stdout",
     "output_type": "stream",
     "text": [
      "<class 'str'>\n"
     ]
    }
   ],
   "source": [
    "print(type(f_Data[0]))"
   ]
  },
  {
   "cell_type": "code",
   "execution_count": 139,
   "id": "98e92dce",
   "metadata": {},
   "outputs": [],
   "source": [
    "length = np.array(length)"
   ]
  },
  {
   "cell_type": "code",
   "execution_count": 140,
   "id": "dc396490",
   "metadata": {},
   "outputs": [
    {
     "data": {
      "image/png": "[encoded data removed]",
      "text/plain": [
       "<Figure size 1800x720 with 1 Axes>"
      ]
     },
     "metadata": {
      "needs_background": "light"
     },
     "output_type": "display_data"
    }
   ],
   "source": [
    "\n",
    "#visualization on the maximal frequent set\n",
    "import matplotlib.pyplot as plt\n",
    "%matplotlib inline\n",
    "plt.figure(figsize=(25, 10))\n",
    "plt.bar(length,f_Data,color=\"b\")\n",
    "font3 = {'family':'serif','color':'red','size':25}\n",
    "#plt.title(\"Active Cases Gujrat\",fontdict = font3)\n",
    "#plt.xlabel(\"Date from 14 Mar 2020 to 14 June 2020 \",fontdict = font3)\n",
    "plt.ylabel(\"Maximal Frequent set :\",fontdict = font3)\n",
    "plt.show()"
   ]
  },
  {
   "cell_type": "markdown",
   "id": "8abb3213",
   "metadata": {},
   "source": [
    "# Using networkx library"
   ]
  },
  {
   "cell_type": "code",
   "execution_count": 160,
   "id": "4f8facf6",
   "metadata": {},
   "outputs": [
    {
     "data": {
      "text/plain": [
       "[\"['Dumb & Dumber (Dumb and Dumber) (1994)']\",\n",
       " \"['Blazing Saddles (1974)']\",\n",
       " \"['Tombstone (1993)']\",\n",
       " \"['Ed Wood (1994)']\"]"
      ]
     },
     "execution_count": 160,
     "metadata": {},
     "output_type": "execute_result"
    }
   ],
   "source": [
    "f_Data[:4]"
   ]
  },
  {
   "cell_type": "code",
   "execution_count": 161,
   "id": "06cbd5b7",
   "metadata": {},
   "outputs": [],
   "source": [
    "import networkx as nx"
   ]
  },
  {
   "cell_type": "code",
   "execution_count": 172,
   "id": "19f9b24f",
   "metadata": {},
   "outputs": [],
   "source": [
    "my_G = nx.Graph()\n",
    "a = 'Tombstone (1993)' #maximal frequent itemset \n",
    "b = 'Tombstone (1993),Titanic 2007'\n",
    "c = 'Shrek (2001) Tombstone (1993)'\n",
    "d = 'Jaws 1975 Tomstone (1993)'\n",
    "my_G.add_nodes_from([(a,{\"color\":\"green\"}),(b,{\"color\":\"grey\"}),(c,{\"color\":\"grey\"}),(d,{\"color\":\"grey\"})])"
   ]
  },
  {
   "cell_type": "code",
   "execution_count": 173,
   "id": "045f1c4f",
   "metadata": {},
   "outputs": [],
   "source": [
    "my_G.add_edge(a, b)\n",
    "my_G.add_edge(b, c)\n",
    "my_G.add_edge(a, d)\n",
    "my_G.add_edge(a, c)\n",
    "my_G.add_edge(c, d)\n"
   ]
  },
  {
   "cell_type": "code",
   "execution_count": 183,
   "id": "b8851e32",
   "metadata": {},
   "outputs": [
    {
     "data": {
      "image/png": "[encoded data removed]",
      "text/plain": [
       "<Figure size 432x288 with 1 Axes>"
      ]
     },
     "metadata": {},
     "output_type": "display_data"
    }
   ],
   "source": [
    "nx.draw(my_G, with_labels=True,font_weight=\"bold\")"
   ]
  },
  {
   "cell_type": "markdown",
   "id": "2cc30d1f",
   "metadata": {},
   "source": [
    "# Its a small example where we have Tombstone (1993) as the Maximal frequent set"
   ]
  },
  {
   "cell_type": "code",
   "execution_count": null,
   "id": "28386858",
   "metadata": {},
   "outputs": [],
   "source": []
  }
 ],
 "metadata": {
  "kernelspec": {
   "display_name": "Python 3 (ipykernel)",
   "language": "python",
   "name": "python3"
  },
  "language_info": {
   "codemirror_mode": {
    "name": "ipython",
    "version": 3
   },
   "file_extension": ".py",
   "mimetype": "text/x-python",
   "name": "python",
   "nbconvert_exporter": "python",
   "pygments_lexer": "ipython3",
   "version": "3.9.6"
  }
 },
 "nbformat": 4,
 "nbformat_minor": 5
}
